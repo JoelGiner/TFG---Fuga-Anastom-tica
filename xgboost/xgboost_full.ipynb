{
 "cells": [
  {
   "cell_type": "code",
   "execution_count": 240,
   "id": "f75d7a18",
   "metadata": {},
   "outputs": [],
   "source": [
    "import pandas as pd\n",
    "import numpy as np\n",
    "import xgboost as xgb\n",
    "import dalex as dx\n",
    "from sklearn.model_selection import train_test_split\n",
    "from sklearn.preprocessing import LabelEncoder\n",
    "from sklearn.metrics import confusion_matrix, classification_report, precision_recall_curve"
   ]
  },
  {
   "cell_type": "code",
   "execution_count": 241,
   "id": "8c3bad74",
   "metadata": {},
   "outputs": [
    {
     "name": "stdout",
     "output_type": "stream",
     "text": [
      "30\n",
      "28\n"
     ]
    }
   ],
   "source": [
    "df_modelos = pd.read_csv(\"../data/datosFinales/df_modelos.csv\", sep = \";\")\n",
    "#dropped columns which are 0\n",
    "#df_modelos = df_modelos.loc[:, ~df_modelos.columns.str.contains('diferencia')]\n",
    "categoricas = pd.read_csv(\"../data/categoricas.csv\", sep = \",\").squeeze().tolist()\n",
    "print(len(categoricas))\n",
    "#remove columns with many NAs\n",
    "categoricas.remove('tipo_plastia')\n",
    "categoricas.remove('via_asc_plastia')\n",
    "print(len(categoricas))"
   ]
  },
  {
   "cell_type": "code",
   "execution_count": 242,
   "id": "392aed55",
   "metadata": {},
   "outputs": [
    {
     "data": {
      "text/html": [
       "<div>\n",
       "<style scoped>\n",
       "    .dataframe tbody tr th:only-of-type {\n",
       "        vertical-align: middle;\n",
       "    }\n",
       "\n",
       "    .dataframe tbody tr th {\n",
       "        vertical-align: top;\n",
       "    }\n",
       "\n",
       "    .dataframe thead th {\n",
       "        text-align: right;\n",
       "    }\n",
       "</style>\n",
       "<table border=\"1\" class=\"dataframe\">\n",
       "  <thead>\n",
       "    <tr style=\"text-align: right;\">\n",
       "      <th></th>\n",
       "      <th>id_registro</th>\n",
       "      <th>sexo</th>\n",
       "      <th>edad</th>\n",
       "      <th>peso</th>\n",
       "      <th>talla</th>\n",
       "      <th>imc</th>\n",
       "      <th>neoadyuvancia</th>\n",
       "      <th>localizacion</th>\n",
       "      <th>tipo_histologico</th>\n",
       "      <th>ct</th>\n",
       "      <th>...</th>\n",
       "      <th>temp_corp_diferencia_5</th>\n",
       "      <th>pcr_diferencia_5</th>\n",
       "      <th>plaquetas_diferencia_5</th>\n",
       "      <th>leucocitos_diferencia_5</th>\n",
       "      <th>tad_diferencia_5</th>\n",
       "      <th>tas_diferencia_5</th>\n",
       "      <th>creatinina_diferencia_5</th>\n",
       "      <th>frec_resp_diferencia_5</th>\n",
       "      <th>eva_diferencia_5</th>\n",
       "      <th>frec_card_diferencia_5</th>\n",
       "    </tr>\n",
       "  </thead>\n",
       "  <tbody>\n",
       "    <tr>\n",
       "      <th>0</th>\n",
       "      <td>92-1</td>\n",
       "      <td>0.0</td>\n",
       "      <td>61.0</td>\n",
       "      <td>79.0</td>\n",
       "      <td>178.0</td>\n",
       "      <td>24.9</td>\n",
       "      <td>1.0</td>\n",
       "      <td>4.0</td>\n",
       "      <td>1.0</td>\n",
       "      <td>4.0</td>\n",
       "      <td>...</td>\n",
       "      <td>-0.1</td>\n",
       "      <td>115.80</td>\n",
       "      <td>0.005666</td>\n",
       "      <td>-0.766582</td>\n",
       "      <td>-15.0</td>\n",
       "      <td>-30.0</td>\n",
       "      <td>-0.03</td>\n",
       "      <td>-1.0</td>\n",
       "      <td>-3.0</td>\n",
       "      <td>NaN</td>\n",
       "    </tr>\n",
       "    <tr>\n",
       "      <th>1</th>\n",
       "      <td>92-2</td>\n",
       "      <td>1.0</td>\n",
       "      <td>79.0</td>\n",
       "      <td>95.0</td>\n",
       "      <td>170.0</td>\n",
       "      <td>32.9</td>\n",
       "      <td>0.0</td>\n",
       "      <td>4.0</td>\n",
       "      <td>1.0</td>\n",
       "      <td>2.0</td>\n",
       "      <td>...</td>\n",
       "      <td>-0.6</td>\n",
       "      <td>59.60</td>\n",
       "      <td>0.298043</td>\n",
       "      <td>-0.143161</td>\n",
       "      <td>NaN</td>\n",
       "      <td>22.0</td>\n",
       "      <td>-0.48</td>\n",
       "      <td>-6.0</td>\n",
       "      <td>-4.0</td>\n",
       "      <td>23.0</td>\n",
       "    </tr>\n",
       "    <tr>\n",
       "      <th>2</th>\n",
       "      <td>92-3</td>\n",
       "      <td>0.0</td>\n",
       "      <td>74.0</td>\n",
       "      <td>94.0</td>\n",
       "      <td>175.0</td>\n",
       "      <td>30.7</td>\n",
       "      <td>1.0</td>\n",
       "      <td>4.0</td>\n",
       "      <td>NaN</td>\n",
       "      <td>4.0</td>\n",
       "      <td>...</td>\n",
       "      <td>-0.2</td>\n",
       "      <td>177.00</td>\n",
       "      <td>0.032002</td>\n",
       "      <td>-0.180880</td>\n",
       "      <td>12.0</td>\n",
       "      <td>16.0</td>\n",
       "      <td>0.02</td>\n",
       "      <td>1.0</td>\n",
       "      <td>3.0</td>\n",
       "      <td>17.0</td>\n",
       "    </tr>\n",
       "    <tr>\n",
       "      <th>3</th>\n",
       "      <td>92-4</td>\n",
       "      <td>0.0</td>\n",
       "      <td>74.0</td>\n",
       "      <td>63.0</td>\n",
       "      <td>168.0</td>\n",
       "      <td>22.3</td>\n",
       "      <td>2.0</td>\n",
       "      <td>3.0</td>\n",
       "      <td>1.0</td>\n",
       "      <td>5.0</td>\n",
       "      <td>...</td>\n",
       "      <td>1.1</td>\n",
       "      <td>NaN</td>\n",
       "      <td>NaN</td>\n",
       "      <td>NaN</td>\n",
       "      <td>-15.0</td>\n",
       "      <td>-11.0</td>\n",
       "      <td>NaN</td>\n",
       "      <td>8.0</td>\n",
       "      <td>4.0</td>\n",
       "      <td>32.0</td>\n",
       "    </tr>\n",
       "    <tr>\n",
       "      <th>4</th>\n",
       "      <td>92-5</td>\n",
       "      <td>0.0</td>\n",
       "      <td>62.0</td>\n",
       "      <td>57.0</td>\n",
       "      <td>157.0</td>\n",
       "      <td>23.1</td>\n",
       "      <td>2.0</td>\n",
       "      <td>4.0</td>\n",
       "      <td>1.0</td>\n",
       "      <td>4.0</td>\n",
       "      <td>...</td>\n",
       "      <td>-0.5</td>\n",
       "      <td>121.40</td>\n",
       "      <td>0.145181</td>\n",
       "      <td>0.768582</td>\n",
       "      <td>6.0</td>\n",
       "      <td>12.0</td>\n",
       "      <td>-0.23</td>\n",
       "      <td>2.0</td>\n",
       "      <td>-5.0</td>\n",
       "      <td>22.0</td>\n",
       "    </tr>\n",
       "    <tr>\n",
       "      <th>...</th>\n",
       "      <td>...</td>\n",
       "      <td>...</td>\n",
       "      <td>...</td>\n",
       "      <td>...</td>\n",
       "      <td>...</td>\n",
       "      <td>...</td>\n",
       "      <td>...</td>\n",
       "      <td>...</td>\n",
       "      <td>...</td>\n",
       "      <td>...</td>\n",
       "      <td>...</td>\n",
       "      <td>...</td>\n",
       "      <td>...</td>\n",
       "      <td>...</td>\n",
       "      <td>...</td>\n",
       "      <td>...</td>\n",
       "      <td>...</td>\n",
       "      <td>...</td>\n",
       "      <td>...</td>\n",
       "      <td>...</td>\n",
       "      <td>...</td>\n",
       "    </tr>\n",
       "    <tr>\n",
       "      <th>723</th>\n",
       "      <td>613-30</td>\n",
       "      <td>0.0</td>\n",
       "      <td>72.0</td>\n",
       "      <td>83.0</td>\n",
       "      <td>169.0</td>\n",
       "      <td>29.1</td>\n",
       "      <td>1.0</td>\n",
       "      <td>3.0</td>\n",
       "      <td>1.0</td>\n",
       "      <td>3.0</td>\n",
       "      <td>...</td>\n",
       "      <td>0.0</td>\n",
       "      <td>27.00</td>\n",
       "      <td>0.090728</td>\n",
       "      <td>0.291415</td>\n",
       "      <td>-29.0</td>\n",
       "      <td>-19.0</td>\n",
       "      <td>-0.06</td>\n",
       "      <td>3.0</td>\n",
       "      <td>-1.0</td>\n",
       "      <td>14.0</td>\n",
       "    </tr>\n",
       "    <tr>\n",
       "      <th>724</th>\n",
       "      <td>613-31</td>\n",
       "      <td>1.0</td>\n",
       "      <td>40.0</td>\n",
       "      <td>58.0</td>\n",
       "      <td>160.0</td>\n",
       "      <td>22.7</td>\n",
       "      <td>0.0</td>\n",
       "      <td>5.0</td>\n",
       "      <td>1.0</td>\n",
       "      <td>3.0</td>\n",
       "      <td>...</td>\n",
       "      <td>-0.3</td>\n",
       "      <td>11.62</td>\n",
       "      <td>0.226184</td>\n",
       "      <td>-0.796733</td>\n",
       "      <td>-13.0</td>\n",
       "      <td>-13.0</td>\n",
       "      <td>-0.17</td>\n",
       "      <td>0.0</td>\n",
       "      <td>-1.0</td>\n",
       "      <td>-11.0</td>\n",
       "    </tr>\n",
       "    <tr>\n",
       "      <th>725</th>\n",
       "      <td>613-32</td>\n",
       "      <td>0.0</td>\n",
       "      <td>59.0</td>\n",
       "      <td>82.0</td>\n",
       "      <td>171.0</td>\n",
       "      <td>28.0</td>\n",
       "      <td>1.0</td>\n",
       "      <td>7.0</td>\n",
       "      <td>1.0</td>\n",
       "      <td>2.0</td>\n",
       "      <td>...</td>\n",
       "      <td>-1.7</td>\n",
       "      <td>-3.09</td>\n",
       "      <td>0.454254</td>\n",
       "      <td>-0.577630</td>\n",
       "      <td>-12.0</td>\n",
       "      <td>-11.0</td>\n",
       "      <td>-0.02</td>\n",
       "      <td>-6.0</td>\n",
       "      <td>-2.0</td>\n",
       "      <td>-32.0</td>\n",
       "    </tr>\n",
       "    <tr>\n",
       "      <th>726</th>\n",
       "      <td>617-1</td>\n",
       "      <td>0.0</td>\n",
       "      <td>74.0</td>\n",
       "      <td>53.0</td>\n",
       "      <td>160.0</td>\n",
       "      <td>20.7</td>\n",
       "      <td>0.0</td>\n",
       "      <td>6.0</td>\n",
       "      <td>2.0</td>\n",
       "      <td>2.0</td>\n",
       "      <td>...</td>\n",
       "      <td>-0.1</td>\n",
       "      <td>40.00</td>\n",
       "      <td>0.213257</td>\n",
       "      <td>-0.660411</td>\n",
       "      <td>-11.0</td>\n",
       "      <td>-24.0</td>\n",
       "      <td>0.17</td>\n",
       "      <td>-2.0</td>\n",
       "      <td>-3.0</td>\n",
       "      <td>-16.0</td>\n",
       "    </tr>\n",
       "    <tr>\n",
       "      <th>727</th>\n",
       "      <td>617-2</td>\n",
       "      <td>0.0</td>\n",
       "      <td>75.0</td>\n",
       "      <td>47.0</td>\n",
       "      <td>160.0</td>\n",
       "      <td>18.4</td>\n",
       "      <td>2.0</td>\n",
       "      <td>3.0</td>\n",
       "      <td>1.0</td>\n",
       "      <td>4.0</td>\n",
       "      <td>...</td>\n",
       "      <td>-1.2</td>\n",
       "      <td>32.50</td>\n",
       "      <td>0.332530</td>\n",
       "      <td>2.095642</td>\n",
       "      <td>-10.0</td>\n",
       "      <td>0.0</td>\n",
       "      <td>-0.17</td>\n",
       "      <td>-4.0</td>\n",
       "      <td>-7.0</td>\n",
       "      <td>-34.0</td>\n",
       "    </tr>\n",
       "  </tbody>\n",
       "</table>\n",
       "<p>728 rows × 243 columns</p>\n",
       "</div>"
      ],
      "text/plain": [
       "    id_registro  sexo  edad  peso  talla   imc  neoadyuvancia  localizacion  \\\n",
       "0          92-1   0.0  61.0  79.0  178.0  24.9            1.0           4.0   \n",
       "1          92-2   1.0  79.0  95.0  170.0  32.9            0.0           4.0   \n",
       "2          92-3   0.0  74.0  94.0  175.0  30.7            1.0           4.0   \n",
       "3          92-4   0.0  74.0  63.0  168.0  22.3            2.0           3.0   \n",
       "4          92-5   0.0  62.0  57.0  157.0  23.1            2.0           4.0   \n",
       "..          ...   ...   ...   ...    ...   ...            ...           ...   \n",
       "723      613-30   0.0  72.0  83.0  169.0  29.1            1.0           3.0   \n",
       "724      613-31   1.0  40.0  58.0  160.0  22.7            0.0           5.0   \n",
       "725      613-32   0.0  59.0  82.0  171.0  28.0            1.0           7.0   \n",
       "726       617-1   0.0  74.0  53.0  160.0  20.7            0.0           6.0   \n",
       "727       617-2   0.0  75.0  47.0  160.0  18.4            2.0           3.0   \n",
       "\n",
       "     tipo_histologico   ct  ...  temp_corp_diferencia_5  pcr_diferencia_5  \\\n",
       "0                 1.0  4.0  ...                    -0.1            115.80   \n",
       "1                 1.0  2.0  ...                    -0.6             59.60   \n",
       "2                 NaN  4.0  ...                    -0.2            177.00   \n",
       "3                 1.0  5.0  ...                     1.1               NaN   \n",
       "4                 1.0  4.0  ...                    -0.5            121.40   \n",
       "..                ...  ...  ...                     ...               ...   \n",
       "723               1.0  3.0  ...                     0.0             27.00   \n",
       "724               1.0  3.0  ...                    -0.3             11.62   \n",
       "725               1.0  2.0  ...                    -1.7             -3.09   \n",
       "726               2.0  2.0  ...                    -0.1             40.00   \n",
       "727               1.0  4.0  ...                    -1.2             32.50   \n",
       "\n",
       "     plaquetas_diferencia_5  leucocitos_diferencia_5  tad_diferencia_5  \\\n",
       "0                  0.005666                -0.766582             -15.0   \n",
       "1                  0.298043                -0.143161               NaN   \n",
       "2                  0.032002                -0.180880              12.0   \n",
       "3                       NaN                      NaN             -15.0   \n",
       "4                  0.145181                 0.768582               6.0   \n",
       "..                      ...                      ...               ...   \n",
       "723                0.090728                 0.291415             -29.0   \n",
       "724                0.226184                -0.796733             -13.0   \n",
       "725                0.454254                -0.577630             -12.0   \n",
       "726                0.213257                -0.660411             -11.0   \n",
       "727                0.332530                 2.095642             -10.0   \n",
       "\n",
       "     tas_diferencia_5  creatinina_diferencia_5  frec_resp_diferencia_5  \\\n",
       "0               -30.0                    -0.03                    -1.0   \n",
       "1                22.0                    -0.48                    -6.0   \n",
       "2                16.0                     0.02                     1.0   \n",
       "3               -11.0                      NaN                     8.0   \n",
       "4                12.0                    -0.23                     2.0   \n",
       "..                ...                      ...                     ...   \n",
       "723             -19.0                    -0.06                     3.0   \n",
       "724             -13.0                    -0.17                     0.0   \n",
       "725             -11.0                    -0.02                    -6.0   \n",
       "726             -24.0                     0.17                    -2.0   \n",
       "727               0.0                    -0.17                    -4.0   \n",
       "\n",
       "     eva_diferencia_5  frec_card_diferencia_5  \n",
       "0                -3.0                     NaN  \n",
       "1                -4.0                    23.0  \n",
       "2                 3.0                    17.0  \n",
       "3                 4.0                    32.0  \n",
       "4                -5.0                    22.0  \n",
       "..                ...                     ...  \n",
       "723              -1.0                    14.0  \n",
       "724              -1.0                   -11.0  \n",
       "725              -2.0                   -32.0  \n",
       "726              -3.0                   -16.0  \n",
       "727              -7.0                   -34.0  \n",
       "\n",
       "[728 rows x 243 columns]"
      ]
     },
     "execution_count": 242,
     "metadata": {},
     "output_type": "execute_result"
    }
   ],
   "source": [
    "df_modelos"
   ]
  },
  {
   "cell_type": "code",
   "execution_count": 243,
   "id": "342f3c3b",
   "metadata": {},
   "outputs": [],
   "source": [
    "idPats = np.unique(df_modelos.id_registro)\n",
    "\n",
    "df_modelos = df_modelos.loc[:, ~df_modelos.columns.str.endswith('_5')]\n",
    "df_modelos = df_modelos.loc[:, ~df_modelos.columns.str.endswith('_4')]\n",
    "df_modelos = df_modelos.loc[:, ~df_modelos.columns.str.endswith('_3')]\n",
    "#df_modelos = df_modelos.loc[:, ~df_modelos.columns.str.endswith('_2')]"
   ]
  },
  {
   "cell_type": "code",
   "execution_count": null,
   "id": "b676b97c",
   "metadata": {},
   "outputs": [],
   "source": []
  },
  {
   "cell_type": "code",
   "execution_count": null,
   "id": "20824e11",
   "metadata": {},
   "outputs": [],
   "source": []
  },
  {
   "cell_type": "code",
   "execution_count": null,
   "id": "79dc8c25",
   "metadata": {},
   "outputs": [],
   "source": []
  },
  {
   "cell_type": "markdown",
   "id": "17da036e",
   "metadata": {},
   "source": [
    "# Modelo Xgboost\n"
   ]
  },
  {
   "cell_type": "code",
   "execution_count": 244,
   "id": "9b3af39d",
   "metadata": {},
   "outputs": [],
   "source": [
    "np.random.seed(14)"
   ]
  },
  {
   "cell_type": "code",
   "execution_count": 245,
   "id": "4951750a",
   "metadata": {},
   "outputs": [],
   "source": [
    "df_tmp = df_modelos.copy()[df_modelos['fuga'] != -1]\n",
    "cats = []\n",
    "\n",
    "columnas_a_eliminar = [col for col in df_tmp.columns if \"fuga\" in col]\n",
    "X = df_tmp.drop(columnas_a_eliminar, axis=1)\n",
    "X = X.drop(['id_registro'], axis=1)\n",
    "\n",
    "y = df_tmp['fuga']"
   ]
  },
  {
   "cell_type": "code",
   "execution_count": 246,
   "id": "225b4748",
   "metadata": {},
   "outputs": [],
   "source": [
    "from sklearn.pipeline import Pipeline\n",
    "from sklearn.model_selection import cross_val_score\n",
    "from xgboost import XGBClassifier\n",
    "from sklearn.preprocessing import StandardScaler, OneHotEncoder"
   ]
  },
  {
   "cell_type": "code",
   "execution_count": null,
   "id": "cb2de588",
   "metadata": {},
   "outputs": [],
   "source": []
  },
  {
   "cell_type": "code",
   "execution_count": null,
   "id": "da6fa745",
   "metadata": {},
   "outputs": [],
   "source": []
  },
  {
   "cell_type": "code",
   "execution_count": null,
   "id": "b449c761",
   "metadata": {},
   "outputs": [],
   "source": []
  },
  {
   "cell_type": "code",
   "execution_count": null,
   "id": "8b2d02d5",
   "metadata": {},
   "outputs": [],
   "source": []
  },
  {
   "cell_type": "code",
   "execution_count": 247,
   "id": "f3f3164d",
   "metadata": {},
   "outputs": [],
   "source": [
    "X_train, X_test, y_train, y_test = train_test_split(X, y, test_size=0.3, stratify=y, random_state=14)\n",
    "#X_train, X_val, y_train, y_val = train_test_split(X_train, y_train, test_size=0.3, stratify=y_train, random_state=14)"
   ]
  },
  {
   "cell_type": "code",
   "execution_count": 248,
   "id": "e275b886",
   "metadata": {},
   "outputs": [
    {
     "data": {
      "text/plain": [
       "Index(['sexo', 'edad', 'peso', 'talla', 'imc', 'neoadyuvancia', 'localizacion',\n",
       "       'tipo_histologico', 'ct', 'cn',\n",
       "       ...\n",
       "       'temp_corp_diferencia_2', 'pcr_diferencia_2', 'plaquetas_diferencia_2',\n",
       "       'leucocitos_diferencia_2', 'tad_diferencia_2', 'tas_diferencia_2',\n",
       "       'creatinina_diferencia_2', 'frec_resp_diferencia_2', 'eva_diferencia_2',\n",
       "       'frec_card_diferencia_2'],\n",
       "      dtype='object', length=139)"
      ]
     },
     "execution_count": 248,
     "metadata": {},
     "output_type": "execute_result"
    }
   ],
   "source": [
    "X_train.columns"
   ]
  },
  {
   "cell_type": "code",
   "execution_count": 249,
   "id": "ba5ca8b1",
   "metadata": {},
   "outputs": [],
   "source": [
    "final_params = {\n",
    "    'objective': 'binary:logistic',\n",
    "    'eval_metric': ['auc', 'error'],\n",
    "    'max_depth': 4,  # Reducida desde 5\n",
    "    'learning_rate': 0.001,  # Reducida desde 0.05\n",
    "    'subsample': 0.3,  # Más bajo para más regularización\n",
    "    'colsample_bytree': 0.7,\n",
    "    'min_child_weight': 5,  # Aumentada desde 3\n",
    "    'gamma': 0.3,  # Aumentada desde 0.2\n",
    "    'reg_alpha': 2,  # Aumentada desde 1\n",
    "    'reg_lambda': 15,  # Aumentada desde 10\n",
    "    'scale_pos_weight': len(y_train[y_train==0])/len(y_train[y_train==1]) * 1.2,  # Balance ajustado\n",
    "    'seed': 14,\n",
    "    'tree_method': 'hist'\n",
    "}\n"
   ]
  },
  {
   "cell_type": "code",
   "execution_count": 250,
   "id": "bd7febe7",
   "metadata": {},
   "outputs": [],
   "source": [
    "\n",
    "# Encode categorical variables in X_train and X_val\n",
    "X_train_encoded = X_train.copy()\n",
    "X_test_encoded = X_test.copy()\n",
    "\n",
    "# Convertir a DMatrix\n",
    "\n",
    "dtrain = xgb.DMatrix(X_train_encoded, label=y_train)\n",
    "dtest = xgb.DMatrix(X_test_encoded)\n",
    "\n",
    "#evals_result = {}\n",
    "model = xgb.train(\n",
    "    final_params,\n",
    "    dtrain,\n",
    "    num_boost_round=2000,  # Más iteraciones posibles\n",
    "    verbose_eval=50\n",
    ")\n",
    "\n"
   ]
  },
  {
   "cell_type": "code",
   "execution_count": 251,
   "id": "0419eaf5",
   "metadata": {},
   "outputs": [],
   "source": [
    "from sklearn.metrics import accuracy_score\n",
    "#calcula el f1 score del modelo\n",
    "from sklearn.metrics import f1_score"
   ]
  },
  {
   "cell_type": "code",
   "execution_count": 252,
   "id": "4ae019e6",
   "metadata": {},
   "outputs": [
    {
     "name": "stdout",
     "output_type": "stream",
     "text": [
      "\n",
      "=== RESULTADOS FINALES OPTIMIZADOS ===\n",
      "Threshold óptimo: 0.0000\n",
      "\n",
      "Matriz de confusión TRAIN:\n",
      "[[318  64]\n",
      " [ 11  81]]\n",
      "\n",
      "Reporte de clasificación TRAIN:\n",
      "              precision    recall  f1-score   support\n",
      "\n",
      "           0       0.97      0.83      0.89       382\n",
      "           1       0.56      0.88      0.68        92\n",
      "\n",
      "    accuracy                           0.84       474\n",
      "   macro avg       0.76      0.86      0.79       474\n",
      "weighted avg       0.89      0.84      0.85       474\n",
      "\n",
      "Accuracy: 0.8417721518987342\n",
      "AUC: 0.9346\n",
      "F1 score: 0.6835443037974683\n"
     ]
    }
   ],
   "source": [
    "y_proba_train = model.predict(dtrain)\n",
    "y_pred_train = (y_proba_train >= 0.5).astype(int)\n",
    "\n",
    "print(\"\\n=== RESULTADOS FINALES OPTIMIZADOS ===\")\n",
    "print(f\"Threshold óptimo: {0:.4f}\")\n",
    "print(\"\\nMatriz de confusión TRAIN:\")\n",
    "print(confusion_matrix(y_train, y_pred_train))\n",
    "print(\"\\nReporte de clasificación TRAIN:\")\n",
    "print(classification_report(y_train, y_pred_train))\n",
    "\n",
    "from sklearn.metrics import roc_auc_score\n",
    "auc = roc_auc_score(y_train, y_proba_train)\n",
    "print(\"Accuracy:\", accuracy_score(y_train, y_pred_train))\n",
    "print(f\"AUC: {auc:.4f}\")\n",
    "f1 = f1_score(y_train, y_pred_train)\n",
    "print(\"F1 score:\", f1)"
   ]
  },
  {
   "cell_type": "code",
   "execution_count": 253,
   "id": "f35bc50c",
   "metadata": {},
   "outputs": [
    {
     "name": "stdout",
     "output_type": "stream",
     "text": [
      "\n",
      "=== RESULTADOS FINALES OPTIMIZADOS ===\n",
      "Threshold óptimo: 0.3900\n",
      "\n",
      "Matriz de confusión TEST:\n",
      "[[118  47]\n",
      " [ 14  25]]\n",
      "\n",
      "Reporte de clasificación TEST:\n",
      "              precision    recall  f1-score   support\n",
      "\n",
      "           0       0.89      0.72      0.79       165\n",
      "           1       0.35      0.64      0.45        39\n",
      "\n",
      "    accuracy                           0.70       204\n",
      "   macro avg       0.62      0.68      0.62       204\n",
      "weighted avg       0.79      0.70      0.73       204\n",
      "\n",
      "Accuracy: 0.7009803921568627\n",
      "AUC: 0.7413\n",
      "F1 score: 0.45045045045045046\n"
     ]
    }
   ],
   "source": [
    "y_proba_test = model.predict(dtest)\n",
    "y_pred_test = (y_proba_test >= 0.5).astype(int)\n",
    "\n",
    "print(\"\\n=== RESULTADOS FINALES OPTIMIZADOS ===\")\n",
    "print(f\"Threshold óptimo: {0.39:.4f}\")\n",
    "print(\"\\nMatriz de confusión TEST:\")\n",
    "print(confusion_matrix(y_test, y_pred_test))\n",
    "print(\"\\nReporte de clasificación TEST:\")\n",
    "print(classification_report(y_test, y_pred_test))\n",
    "#auc\n",
    "from sklearn.metrics import roc_auc_score\n",
    "auc = roc_auc_score(y_test, y_proba_test)\n",
    "print(\"Accuracy:\", accuracy_score(y_test, y_pred_test))\n",
    "print(f\"AUC: {auc:.4f}\")\n",
    "f1 = f1_score(y_test, y_pred_test)\n",
    "print(\"F1 score:\", f1)\n"
   ]
  },
  {
   "cell_type": "code",
   "execution_count": 224,
   "id": "92cebe2f",
   "metadata": {},
   "outputs": [
    {
     "data": {
      "image/png": "[encoded data removed]",
      "text/plain": [
       "<Figure size 800x600 with 1 Axes>"
      ]
     },
     "metadata": {},
     "output_type": "display_data"
    },
    {
     "data": {
      "image/png": "[encoded data removed]",
      "text/plain": [
       "<Figure size 800x600 with 1 Axes>"
      ]
     },
     "metadata": {},
     "output_type": "display_data"
    }
   ],
   "source": [
    "#show the roc curve for the model \"modelo_hgb\"\n",
    "import numpy as np\n",
    "from sklearn import metrics\n",
    "import matplotlib.pyplot as plt\n",
    "\n",
    "fpr, tpr, thresholds = metrics.roc_curve(y_train, y_proba_train, pos_label=1)\n",
    "#graficar la curva ROC\n",
    "plt.figure(figsize=(8, 6))\n",
    "plt.plot(fpr, tpr, label='Curva ROC', color='blue')\n",
    "plt.plot([0, 1], [0, 1], 'r--')  # Línea diagonal\n",
    "plt.xlim([0.0, 1.0])\n",
    "plt.ylim([0.0, 1.05])\n",
    "plt.xlabel('Tasa de Falsos Positivos')\n",
    "plt.ylabel('Tasa de Verdaderos Positivos')\n",
    "plt.title('Curva ROC (conjunto de entrenamiento)')\n",
    "plt.legend(loc='lower right')\n",
    "plt.grid()\n",
    "plt.show()\n",
    "\n",
    "# dibuja el fpr vs el umbral\n",
    "plt.figure(figsize=(8, 6))\n",
    "plt.plot(thresholds, tpr, label='TPR (Recall)', color='blue')\n",
    "plt.xlabel('Umbral')\n",
    "plt.ylabel('TPR (Recall)')\n",
    "plt.title('TPR vs Umbral')\n",
    "plt.axvline(x=0.05, color='red', linestyle='--', label='Umbral 0.05')\n",
    "plt.axvline(x=0.03, color='green', linestyle='--', label='Umbral 0.03')\n",
    "plt.legend()\n",
    "plt.grid()\n",
    "plt.show()\n",
    "\n",
    "\n"
   ]
  },
  {
   "cell_type": "code",
   "execution_count": 225,
   "id": "fda4c357",
   "metadata": {},
   "outputs": [
    {
     "data": {
      "image/png": "[encoded data removed]",
      "text/plain": [
       "<Figure size 800x600 with 1 Axes>"
      ]
     },
     "metadata": {},
     "output_type": "display_data"
    },
    {
     "data": {
      "image/png": "[encoded data removed]",
      "text/plain": [
       "<Figure size 800x600 with 1 Axes>"
      ]
     },
     "metadata": {},
     "output_type": "display_data"
    }
   ],
   "source": [
    "fpr, tpr, thresholds = metrics.roc_curve(y_test, y_proba_test, pos_label=1)\n",
    "#graficar la curva ROC\n",
    "plt.figure(figsize=(8, 6))\n",
    "plt.plot(fpr, tpr, label='Curva ROC', color='blue')\n",
    "plt.plot([0, 1], [0, 1], 'r--')  # Línea diagonal\n",
    "plt.xlim([0.0, 1.0])\n",
    "plt.ylim([0.0, 1.05])\n",
    "plt.xlabel('Tasa de Falsos Positivos')\n",
    "plt.ylabel('Tasa de Verdaderos Positivos')\n",
    "plt.title('Curva ROC (conjunto de prueba)')\n",
    "plt.legend(loc='lower right')\n",
    "plt.grid()\n",
    "plt.show()\n",
    "\n",
    "# dibuja el fpr vs el umbral\n",
    "plt.figure(figsize=(8, 6))\n",
    "plt.plot(thresholds, tpr, label='TPR (Recall)', color='blue')\n",
    "plt.xlabel('Umbral')\n",
    "plt.ylabel('TPR (Recall)')\n",
    "plt.title('TPR vs Umbral')\n",
    "plt.axvline(x=0.05, color='red', linestyle='--', label='Umbral 0.05')\n",
    "plt.axvline(x=0.03, color='green', linestyle='--', label='Umbral 0.03')\n",
    "plt.legend()\n",
    "plt.grid()\n",
    "plt.show()\n",
    "\n"
   ]
  },
  {
   "cell_type": "code",
   "execution_count": null,
   "id": "1bdfb1e6",
   "metadata": {},
   "outputs": [],
   "source": []
  },
  {
   "cell_type": "code",
   "execution_count": 226,
   "id": "82d73a32",
   "metadata": {},
   "outputs": [
    {
     "name": "stdout",
     "output_type": "stream",
     "text": [
      "Preparation of a new explainer is initiated\n",
      "\n",
      "  -> data              : 474 rows 139 cols\n",
      "  -> target variable   : Parameter 'y' was a pandas.Series. Converted to a numpy.ndarray.\n",
      "  -> target variable   : 474 values\n",
      "  -> model_class       : xgboost.core.Booster (default)\n",
      "  -> label             : Not specified, model's class short name will be used. (default)\n",
      "  -> predict function  : <function yhat_xgboost at 0x14a0fb250> will be used (default)\n",
      "  -> predict function  : Accepts only pandas.DataFrame, numpy.ndarray causes problems.\n",
      "  -> predicted values  : min = 0.278, mean = 0.455, max = 0.726\n",
      "  -> model type        : 'model_type' not provided and cannot be extracted.\n",
      "  -> model type        : Some functionalities won't be available.\n",
      "  -> residual function : difference between y and yhat (default)\n",
      "  -> residuals         : min = -0.679, mean = -0.26, max = 0.602\n",
      "  -> model_info        : package xgboost\n",
      "\n",
      "A new explainer has been created!\n"
     ]
    },
    {
     "data": {
      "application/vnd.plotly.v1+json": {
       "config": {
        "displaylogo": false,
        "modeBarButtonsToRemove": [
         "sendDataToCloud",
         "lasso2d",
         "autoScale2d",
         "select2d",
         "zoom2d",
         "pan2d",
         "zoomIn2d",
         "zoomOut2d",
         "resetScale2d",
         "toggleSpikelines",
         "hoverCompareCartesian",
         "hoverClosestCartesian"
        ],
        "plotlyServerURL": "https://plot.ly",
        "staticPlot": false,
        "toImageButtonOptions": {
         "height": null,
         "width": null
        }
       },
       "data": [
        {
         "base": 0.4282657044608803,
         "hoverinfo": "text",
         "hoverlabel": {
          "bgcolor": "rgba(0,0,0,0.8)"
         },
         "hovertext": [
          "Model: Booster loss after<br>variable: frec_card_1 is permuted: 0.433<br>Drop-out loss change: +0.005",
          "Model: Booster loss after<br>variable: localizacion is permuted: 0.433<br>Drop-out loss change: +0.004",
          "Model: Booster loss after<br>variable: pcr_diferencia_2 is permuted: 0.432<br>Drop-out loss change: +0.003",
          "Model: Booster loss after<br>variable: pcr_2 is permuted: 0.431<br>Drop-out loss change: +0.003",
          "Model: Booster loss after<br>variable: pcr_0 is permuted: 0.431<br>Drop-out loss change: +0.002",
          "Model: Booster loss after<br>variable: linfocitos_2 is permuted: 0.431<br>Drop-out loss change: +0.002",
          "Model: Booster loss after<br>variable: neutrofilos_diferencia_0 is permuted: 0.43<br>Drop-out loss change: +0.002",
          "Model: Booster loss after<br>variable: linfocitos_1 is permuted: 0.43<br>Drop-out loss change: +0.002",
          "Model: Booster loss after<br>variable: tipo_cirugia is permuted: 0.43<br>Drop-out loss change: +0.002",
          "Model: Booster loss after<br>variable: pcr_1 is permuted: 0.43<br>Drop-out loss change: +0.002",
          "Model: Booster loss after<br>variable: neutrofilos_diferencia_2 is permuted: 0.43<br>Drop-out loss change: +0.002",
          "Model: Booster loss after<br>variable: il6_diferencia_2 is permuted: 0.43<br>Drop-out loss change: +0.001",
          "Model: Booster loss after<br>variable: temp_corp_1 is permuted: 0.429<br>Drop-out loss change: +0.001",
          "Model: Booster loss after<br>variable: quick_1 is permuted: 0.429<br>Drop-out loss change: +0.001",
          "Model: Booster loss after<br>variable: il6_diferencia_0 is permuted: 0.429<br>Drop-out loss change: +0.001",
          "Model: Booster loss after<br>variable: perdida_sang is permuted: 0.429<br>Drop-out loss change: +0.001",
          "Model: Booster loss after<br>variable: il6_2 is permuted: 0.429<br>Drop-out loss change: +0.001",
          "Model: Booster loss after<br>variable: proteinas_0 is permuted: 0.429<br>Drop-out loss change: +0.001",
          "Model: Booster loss after<br>variable: quick_diferencia_2 is permuted: 0.429<br>Drop-out loss change: +0.001",
          "Model: Booster loss after<br>variable: linfocitos_diferencia_2 is permuted: 0.429<br>Drop-out loss change: +0.001"
         ],
         "marker": {
          "color": "#46bac2"
         },
         "orientation": "h",
         "showlegend": false,
         "text": [
          "+0.005",
          "+0.004",
          "+0.003",
          "+0.003",
          "+0.002",
          "+0.002",
          "+0.002",
          "+0.002",
          "+0.002",
          "+0.002",
          "+0.002",
          "+0.001",
          "+0.001",
          "+0.001",
          "+0.001",
          "+0.001",
          "+0.001",
          "+0.001",
          "+0.001",
          "+0.001"
         ],
         "textposition": "outside",
         "type": "bar",
         "x": [
          0.004771222332972336,
          0.0044290915522567365,
          0.003248655214705576,
          0.0025252597713944502,
          0.0022863005045695717,
          0.0022745047684840647,
          0.0018717402777860825,
          0.001693090748059678,
          0.0016715135429006267,
          0.0016682491628102203,
          0.0015606206152102842,
          0.0014005383323643095,
          0.0011666138550650018,
          0.001028471669576092,
          0.0008919545906364568,
          0.0008741477914048779,
          0.0008655162389757942,
          0.0007551300981483711,
          0.0007428362275900824,
          0.0007328190319577654
         ],
         "xaxis": "x",
         "y": [
          "frec_card_1",
          "localizacion",
          "pcr_diferencia_2",
          "pcr_2",
          "pcr_0",
          "linfocitos_2",
          "neutrofilos_diferencia_0",
          "linfocitos_1",
          "tipo_cirugia",
          "pcr_1",
          "neutrofilos_diferencia_2",
          "il6_diferencia_2",
          "temp_corp_1",
          "quick_1",
          "il6_diferencia_0",
          "perdida_sang",
          "il6_2",
          "proteinas_0",
          "quick_diferencia_2",
          "linfocitos_diferencia_2"
         ],
         "yaxis": "y"
        }
       ],
       "layout": {
        "annotations": [
         {
          "font": {
           "size": 16
          },
          "showarrow": false,
          "text": "Booster",
          "x": 0.5,
          "xanchor": "center",
          "xref": "paper",
          "y": 1,
          "yanchor": "bottom",
          "yref": "paper"
         },
         {
          "font": {
           "size": 16
          },
          "showarrow": false,
          "text": "drop-out loss",
          "x": 0.5,
          "xanchor": "center",
          "xref": "paper",
          "y": 0,
          "yanchor": "top",
          "yref": "paper",
          "yshift": -30
         }
        ],
        "font": {
         "color": "#371ea3"
        },
        "height": 583,
        "margin": {
         "b": 71,
         "r": 30,
         "t": 78
        },
        "shapes": [
         {
          "line": {
           "color": "#371ea3",
           "dash": "dot",
           "width": 1.5
          },
          "type": "line",
          "x0": 0.4282657044608803,
          "x1": 0.4282657044608803,
          "xref": "x",
          "y0": -1,
          "y1": 20,
          "yref": "y"
         }
        ],
        "template": {
         "data": {
          "scatter": [
           {
            "type": "scatter"
           }
          ]
         }
        },
        "title": {
         "text": "Variable Importance",
         "x": 0.15
        },
        "xaxis": {
         "anchor": "y",
         "automargin": true,
         "domain": [
          0,
          1
         ],
         "fixedrange": true,
         "gridwidth": 2,
         "range": [
          0.42754759507917844,
          0.4337529265827232
         ],
         "tickcolor": "white",
         "ticklen": 3,
         "ticks": "outside",
         "type": "linear",
         "zeroline": false
        },
        "yaxis": {
         "anchor": "x",
         "automargin": true,
         "autorange": "reversed",
         "domain": [
          0,
          1
         ],
         "fixedrange": true,
         "gridwidth": 2,
         "tickcolor": "white",
         "ticklen": 10,
         "ticks": "outside",
         "type": "category"
        }
       }
      }
     },
     "metadata": {},
     "output_type": "display_data"
    }
   ],
   "source": [
    "\n",
    "import dalex as dx\n",
    "\n",
    "# La lista de nombres desde el dataframe\n",
    "feature_names = X_train_encoded.columns.tolist()\n",
    "\n",
    "# Crear el explainer, con feature_names explícito\n",
    "exp = dx.Explainer(model, X_train_encoded, y_train)\n",
    "vi = exp.model_parts()\n",
    "vi.plot(max_vars=20)\n",
    "\n",
    "imps = vi.result['variable'][-30:-1].tolist()\n",
    "imps.append('id_registro')"
   ]
  },
  {
   "cell_type": "code",
   "execution_count": 227,
   "id": "f89cb0f5",
   "metadata": {},
   "outputs": [
    {
     "name": "stdout",
     "output_type": "stream",
     "text": [
      "[\n",
      ", linfocitos_diferencia_0\n",
      ", plaquetas_diferencia_2\n",
      ", pcr_diferencia_0\n",
      ", proteinas_2\n",
      ", leucocitos_diferencia_0\n",
      ", temp_corp_2\n",
      ", quick_2\n",
      ", neutrofilos_2\n",
      ", tas_diferencia_0\n",
      ", linfocitos_diferencia_2\n",
      ", quick_diferencia_2\n",
      ", proteinas_0\n",
      ", il6_2\n",
      ", perdida_sang\n",
      ", il6_diferencia_0\n",
      ", quick_1\n",
      ", temp_corp_1\n",
      ", il6_diferencia_2\n",
      ", neutrofilos_diferencia_2\n",
      ", pcr_1\n",
      ", tipo_cirugia\n",
      ", linfocitos_1\n",
      ", neutrofilos_diferencia_0\n",
      ", linfocitos_2\n",
      ", pcr_0\n",
      ", pcr_2\n",
      ", pcr_diferencia_2\n",
      ", localizacion\n",
      ", frec_card_1\n",
      ", id_registro\n"
     ]
    }
   ],
   "source": [
    "print(\"[\")\n",
    "for i in imps:\n",
    "    print(\",\", i)"
   ]
  },
  {
   "cell_type": "code",
   "execution_count": 231,
   "id": "c18921e7",
   "metadata": {},
   "outputs": [],
   "source": [
    "df_imps = df_modelos[imps]\n",
    "df_imps['fuga'] = df_modelos['fuga']\n",
    "df_imps['id_registro'] = df_modelos['id_registro']"
   ]
  },
  {
   "cell_type": "code",
   "execution_count": 232,
   "id": "14b30132",
   "metadata": {},
   "outputs": [],
   "source": [
    "df_tmp = df_imps.copy()[df_imps['fuga'] != -1]\n",
    "cats = []\n",
    "    \n",
    "columnas_a_eliminar = [col for col in df_tmp.columns if \"fuga\" in col]\n",
    "X = df_tmp.drop(columnas_a_eliminar, axis=1)\n",
    "X = X.drop(['id_registro'], axis=1)\n",
    "y = df_tmp['fuga']\n",
    "\n"
   ]
  },
  {
   "cell_type": "code",
   "execution_count": 233,
   "id": "685426b4",
   "metadata": {},
   "outputs": [],
   "source": [
    "X_train, X_test, y_train, y_test = train_test_split(X, y, test_size=0.3, stratify=y, random_state=14)\n"
   ]
  },
  {
   "cell_type": "code",
   "execution_count": 234,
   "id": "4b9f9092",
   "metadata": {},
   "outputs": [],
   "source": [
    "# for col in cats:\n",
    "#     if col in X.columns:\n",
    "#         label_encoder = LabelEncoder()  \n",
    "#         label_encoder.fit(X[col]) \n",
    "#         X[col] = label_encoder.transform(X[col])\n",
    "\n",
    "# X_trainval, X_test, y_trainval, y_test = train_test_split(\n",
    "#     X, y, \n",
    "#     test_size=0.3, \n",
    "#     stratify=y, \n",
    "#     random_state=14\n",
    "# )\n",
    "\n",
    "# X_train, X_val, y_train, y_val = train_test_split(\n",
    "#     X_trainval, y_trainval, \n",
    "#     test_size=0.2, \n",
    "#     stratify=y_trainval, \n",
    "#     random_state=14\n",
    "# )"
   ]
  },
  {
   "cell_type": "code",
   "execution_count": null,
   "id": "6be99f47",
   "metadata": {},
   "outputs": [],
   "source": []
  },
  {
   "cell_type": "code",
   "execution_count": null,
   "id": "75827620",
   "metadata": {},
   "outputs": [],
   "source": []
  },
  {
   "cell_type": "code",
   "execution_count": 235,
   "id": "530efbc1",
   "metadata": {},
   "outputs": [
    {
     "name": "stdout",
     "output_type": "stream",
     "text": [
      "Fitting 3 folds for each of 50 candidates, totalling 150 fits\n"
     ]
    }
   ],
   "source": [
    "from sklearn.model_selection import RandomizedSearchCV\n",
    "from xgboost import XGBClassifier\n",
    "from scipy.stats import randint, uniform\n",
    "\n",
    "# Espacio de búsqueda basado en tus best_params\n",
    "param_distributions = {\n",
    "    'max_depth': randint(3, 10),\n",
    "    'learning_rate': uniform(0.01, 0.3),\n",
    "    'subsample': uniform(0.5, 0.5),\n",
    "    'colsample_bytree': uniform(0.5, 0.5),\n",
    "    'gamma': uniform(0, 5),\n",
    "    'reg_alpha': uniform(0, 1),\n",
    "    'reg_lambda': uniform(0, 1),\n",
    "    'min_child_weight': randint(1, 10),\n",
    "    'scale_pos_weight': uniform(0.5, 10),\n",
    "}\n",
    "\n",
    "# Codificación de variables categóricas (ya la tienes lista)\n",
    "X_train_encoded = X_train.copy()\n",
    "X_test_encoded = X_test.copy()\n",
    "# Aplica aquí tu codificación si hace falta\n",
    "\n",
    "# Modelo base\n",
    "xgb_clf = XGBClassifier(\n",
    "    objective='binary:logistic',\n",
    "    eval_metric='auc',\n",
    "    seed=14,\n",
    "    tree_method='hist'\n",
    ")\n",
    "\n",
    "# Búsqueda aleatoria\n",
    "random_search = RandomizedSearchCV(\n",
    "    estimator=xgb_clf,\n",
    "    param_distributions=param_distributions,\n",
    "    n_iter=50,\n",
    "    scoring='roc_auc',\n",
    "    cv=3,\n",
    "    verbose=1,\n",
    "    n_jobs=-1,\n",
    "    random_state=14,\n",
    ")\n",
    "\n",
    "# Entrenamiento\n",
    "random_search.fit(X_train_encoded, y_train)\n",
    "\n",
    "# Mejor modelo\n",
    "best_model = random_search.best_estimator_\n"
   ]
  },
  {
   "cell_type": "code",
   "execution_count": null,
   "id": "652e9e66",
   "metadata": {},
   "outputs": [],
   "source": []
  },
  {
   "cell_type": "code",
   "execution_count": 236,
   "id": "7d5b9322",
   "metadata": {},
   "outputs": [
    {
     "name": "stdout",
     "output_type": "stream",
     "text": [
      "\n",
      "=== RESULTADOS FINALES OPTIMIZADOS ===\n",
      "Threshold óptimo: 0.3900\n",
      "\n",
      "Matriz de confusión TRAIN:\n",
      "[[363  19]\n",
      " [  0  92]]\n",
      "\n",
      "Reporte de clasificación TRAIN:\n",
      "              precision    recall  f1-score   support\n",
      "\n",
      "           0       1.00      0.95      0.97       382\n",
      "           1       0.83      1.00      0.91        92\n",
      "\n",
      "    accuracy                           0.96       474\n",
      "   macro avg       0.91      0.98      0.94       474\n",
      "weighted avg       0.97      0.96      0.96       474\n",
      "\n",
      "Accuracy: 0.959915611814346\n",
      "AUC: 0.9995\n",
      "F1 score: 0.9064039408866995\n"
     ]
    }
   ],
   "source": [
    "y_proba_train = best_model.predict_proba(X_train_encoded)[:, 1]\n",
    "y_pred_train = (y_proba_train >= 0.39).astype(int)\n",
    "\n",
    "print(\"\\n=== RESULTADOS FINALES OPTIMIZADOS ===\")\n",
    "print(f\"Threshold óptimo: {0.39:.4f}\")\n",
    "print(\"\\nMatriz de confusión TRAIN:\")\n",
    "print(confusion_matrix(y_train, y_pred_train))\n",
    "print(\"\\nReporte de clasificación TRAIN:\")\n",
    "print(classification_report(y_train, y_pred_train))\n",
    "\n",
    "from sklearn.metrics import roc_auc_score, accuracy_score\n",
    "print(\"Accuracy:\", accuracy_score(y_train, y_pred_train))\n",
    "auc = roc_auc_score(y_train, y_proba_train)\n",
    "print(f\"AUC: {auc:.4f}\")\n",
    "f1 = f1_score(y_train, y_pred_train)\n",
    "print(\"F1 score:\", f1)\n"
   ]
  },
  {
   "cell_type": "markdown",
   "id": "2dc5264f",
   "metadata": {},
   "source": [
    "0.9411"
   ]
  },
  {
   "cell_type": "code",
   "execution_count": null,
   "id": "8cbccf69",
   "metadata": {},
   "outputs": [
    {
     "name": "stdout",
     "output_type": "stream",
     "text": [
      "\n",
      "=== RESULTADOS FINALES OPTIMIZADOS ===\n",
      "Threshold óptimo: 0.5000\n",
      "\n",
      "Matriz de confusión TEST:\n",
      "[[118  47]\n",
      " [ 14  25]]\n",
      "\n",
      "Reporte de clasificación TEST:\n",
      "              precision    recall  f1-score   support\n",
      "\n",
      "           0       0.89      0.72      0.79       165\n",
      "           1       0.35      0.64      0.45        39\n",
      "\n",
      "    accuracy                           0.70       204\n",
      "   macro avg       0.62      0.68      0.62       204\n",
      "weighted avg       0.79      0.70      0.73       204\n",
      "\n",
      "Accuracy: 0.7009803921568627\n",
      "AUC: 0.7413\n",
      "F1 score: 0.45045045045045046\n"
     ]
    }
   ],
   "source": [
    "y_proba_train = best_model.predict_proba(X_test_encoded)[:, 1]\n",
    "y_pred_test = (y_proba_test >= 0.5).astype(int)\n",
    "\n",
    "print(\"\\n=== RESULTADOS FINALES OPTIMIZADOS ===\")\n",
    "print(f\"Threshold óptimo: {0.5:.4f}\")\n",
    "print(\"\\nMatriz de confusión TEST:\")\n",
    "print(confusion_matrix(y_test, y_pred_test))\n",
    "print(\"\\nReporte de clasificación TEST:\")\n",
    "print(classification_report(y_test, y_pred_test))\n",
    "#auc\n",
    "from sklearn.metrics import roc_auc_score\n",
    "auc = roc_auc_score(y_test, y_proba_test)\n",
    "print(\"Accuracy:\", accuracy_score(y_test, y_pred_test))\n",
    "print(f\"AUC: {auc:.4f}\")\n",
    "f1 = f1_score(y_test, y_pred_test)\n",
    "print(\"F1 score:\", f1)\n"
   ]
  },
  {
   "cell_type": "markdown",
   "id": "839a1d4a",
   "metadata": {},
   "source": [
    "0.7333"
   ]
  },
  {
   "cell_type": "code",
   "execution_count": null,
   "id": "0df7ab20",
   "metadata": {},
   "outputs": [],
   "source": []
  },
  {
   "cell_type": "code",
   "execution_count": null,
   "id": "d6d70413",
   "metadata": {},
   "outputs": [
    {
     "name": "stdout",
     "output_type": "stream",
     "text": [
      "Preparation of a new explainer is initiated\n",
      "\n",
      "  -> data              : 678 rows 29 cols\n",
      "  -> target variable   : Parameter 'y' was a pandas.Series. Converted to a numpy.ndarray.\n",
      "  -> target variable   : 678 values\n"
     ]
    },
    {
     "name": "stdout",
     "output_type": "stream",
     "text": [
      "  -> model_class       : xgboost.sklearn.XGBClassifier (default)\n",
      "  -> label             : Not specified, model's class short name will be used. (default)\n",
      "  -> predict function  : <function yhat_proba_default at 0x14a0fb1c0> will be used (default)\n",
      "  -> predict function  : Accepts pandas.DataFrame and numpy.ndarray.\n",
      "  -> predicted values  : min = 0.00553, mean = 0.254, max = 0.975\n",
      "  -> model type        : classification will be used (default)\n",
      "  -> residual function : difference between y and yhat (default)\n",
      "  -> residuals         : min = -0.973, mean = -0.0608, max = 0.957\n",
      "  -> model_info        : package xgboost\n",
      "\n",
      "A new explainer has been created!\n"
     ]
    },
    {
     "data": {
      "application/vnd.plotly.v1+json": {
       "config": {
        "displaylogo": false,
        "modeBarButtonsToRemove": [
         "sendDataToCloud",
         "lasso2d",
         "autoScale2d",
         "select2d",
         "zoom2d",
         "pan2d",
         "zoomIn2d",
         "zoomOut2d",
         "resetScale2d",
         "toggleSpikelines",
         "hoverCompareCartesian",
         "hoverClosestCartesian"
        ],
        "plotlyServerURL": "https://plot.ly",
        "staticPlot": false,
        "toImageButtonOptions": {
         "height": null,
         "width": null
        }
       },
       "data": [
        {
         "base": 0.0605523535732726,
         "hoverinfo": "text",
         "hoverlabel": {
          "bgcolor": "rgba(0,0,0,0.8)"
         },
         "hovertext": [
          "Model: XGBClassifier loss after<br>variable: pcr_1 is permuted: 0.075<br>Drop-out loss change: +0.015",
          "Model: XGBClassifier loss after<br>variable: localizacion is permuted: 0.074<br>Drop-out loss change: +0.014",
          "Model: XGBClassifier loss after<br>variable: pcr_0 is permuted: 0.073<br>Drop-out loss change: +0.012",
          "Model: XGBClassifier loss after<br>variable: neutrofilos_diferencia_2 is permuted: 0.072<br>Drop-out loss change: +0.012",
          "Model: XGBClassifier loss after<br>variable: temp_corp_1 is permuted: 0.069<br>Drop-out loss change: +0.009",
          "Model: XGBClassifier loss after<br>variable: plaquetas_diferencia_2 is permuted: 0.068<br>Drop-out loss change: +0.008",
          "Model: XGBClassifier loss after<br>variable: quick_1 is permuted: 0.068<br>Drop-out loss change: +0.008",
          "Model: XGBClassifier loss after<br>variable: tas_diferencia_0 is permuted: 0.067<br>Drop-out loss change: +0.007",
          "Model: XGBClassifier loss after<br>variable: frec_card_1 is permuted: 0.067<br>Drop-out loss change: +0.006",
          "Model: XGBClassifier loss after<br>variable: pcr_diferencia_2 is permuted: 0.066<br>Drop-out loss change: +0.006",
          "Model: XGBClassifier loss after<br>variable: perdida_sang is permuted: 0.066<br>Drop-out loss change: +0.006",
          "Model: XGBClassifier loss after<br>variable: il6_diferencia_0 is permuted: 0.066<br>Drop-out loss change: +0.005",
          "Model: XGBClassifier loss after<br>variable: il6_diferencia_2 is permuted: 0.066<br>Drop-out loss change: +0.005",
          "Model: XGBClassifier loss after<br>variable: proteinas_0 is permuted: 0.065<br>Drop-out loss change: +0.004",
          "Model: XGBClassifier loss after<br>variable: leucocitos_diferencia_0 is permuted: 0.065<br>Drop-out loss change: +0.004"
         ],
         "marker": {
          "color": "#46bac2"
         },
         "orientation": "h",
         "showlegend": false,
         "text": [
          "+0.015",
          "+0.014",
          "+0.012",
          "+0.012",
          "+0.009",
          "+0.008",
          "+0.008",
          "+0.007",
          "+0.006",
          "+0.006",
          "+0.006",
          "+0.005",
          "+0.005",
          "+0.004",
          "+0.004"
         ],
         "textposition": "outside",
         "type": "bar",
         "x": [
          0.014755711235469038,
          0.013859078666424815,
          0.012364458461839062,
          0.011822990077731493,
          0.008822585371980468,
          0.0076391699345493835,
          0.007567997543854829,
          0.006926050490531341,
          0.006324574012308709,
          0.00572309753408605,
          0.005605872420000907,
          0.005308623023570713,
          0.004951365533025456,
          0.00437640425917922,
          0.004242432700224744
         ],
         "xaxis": "x",
         "y": [
          "pcr_1",
          "localizacion",
          "pcr_0",
          "neutrofilos_diferencia_2",
          "temp_corp_1",
          "plaquetas_diferencia_2",
          "quick_1",
          "tas_diferencia_0",
          "frec_card_1",
          "pcr_diferencia_2",
          "perdida_sang",
          "il6_diferencia_0",
          "il6_diferencia_2",
          "proteinas_0",
          "leucocitos_diferencia_0"
         ],
         "yaxis": "y"
        }
       ],
       "layout": {
        "annotations": [
         {
          "font": {
           "size": 16
          },
          "showarrow": false,
          "text": "XGBClassifier",
          "x": 0.5,
          "xanchor": "center",
          "xref": "paper",
          "y": 1,
          "yanchor": "bottom",
          "yref": "paper"
         },
         {
          "font": {
           "size": 16
          },
          "showarrow": false,
          "text": "drop-out loss",
          "x": 0.5,
          "xanchor": "center",
          "xref": "paper",
          "y": 0,
          "yanchor": "top",
          "yref": "paper",
          "yshift": -30
         }
        ],
        "font": {
         "color": "#371ea3"
        },
        "height": 483,
        "margin": {
         "b": 71,
         "r": 30,
         "t": 78
        },
        "shapes": [
         {
          "line": {
           "color": "#371ea3",
           "dash": "dot",
           "width": 1.5
          },
          "type": "line",
          "x0": 0.0605523535732726,
          "x1": 0.0605523535732726,
          "xref": "x",
          "y0": -1,
          "y1": 15,
          "yref": "y"
         }
        ],
        "template": {
         "data": {
          "scatter": [
           {
            "type": "scatter"
           }
          ]
         }
        },
        "title": {
         "text": "Variable Importance",
         "x": 0.15
        },
        "xaxis": {
         "anchor": "y",
         "automargin": true,
         "domain": [
          0,
          1
         ],
         "fixedrange": true,
         "gridwidth": 2,
         "range": [
          0.05694115717934048,
          0.07770374841257657
         ],
         "tickcolor": "white",
         "ticklen": 3,
         "ticks": "outside",
         "type": "linear",
         "zeroline": false
        },
        "yaxis": {
         "anchor": "x",
         "automargin": true,
         "autorange": "reversed",
         "domain": [
          0,
          1
         ],
         "fixedrange": true,
         "gridwidth": 2,
         "tickcolor": "white",
         "ticklen": 10,
         "ticks": "outside",
         "type": "category"
        }
       }
      }
     },
     "metadata": {},
     "output_type": "display_data"
    }
   ],
   "source": [
    "exp = dx.Explainer(best_model, X, y)\n",
    "vi = exp.model_parts(max_vars=20)\n",
    "vi.plot(max_vars=20)"
   ]
  },
  {
   "cell_type": "code",
   "execution_count": null,
   "id": "64f0a9d1",
   "metadata": {},
   "outputs": [],
   "source": []
  },
  {
   "cell_type": "code",
   "execution_count": 187,
   "id": "a6999872",
   "metadata": {},
   "outputs": [
    {
     "data": {
      "image/png": "[encoded data removed]",
      "text/plain": [
       "<Figure size 800x600 with 1 Axes>"
      ]
     },
     "metadata": {},
     "output_type": "display_data"
    },
    {
     "data": {
      "image/png": "[encoded data removed]",
      "text/plain": [
       "<Figure size 800x600 with 1 Axes>"
      ]
     },
     "metadata": {},
     "output_type": "display_data"
    }
   ],
   "source": [
    "#draw auc curve\n",
    "import matplotlib.pyplot as plt\n",
    "from sklearn.metrics import roc_curve\n",
    "fpr, tpr, thresholds = roc_curve(y_test, y_proba_test)\n",
    "plt.figure(figsize=(8, 6))\n",
    "plt.plot(fpr, tpr, label='AUC = %.4f' % auc)\n",
    "plt.plot([0, 1], [0, 1], 'k--')\n",
    "plt.xlabel('False Positive Rate')\n",
    "plt.ylabel('True Positive Rate')\n",
    "plt.title('ROC Curve')\n",
    "plt.legend(loc='lower right')\n",
    "plt.show()\n",
    "\n",
    "\n",
    "\n",
    "# dibuja el fpr vs el umbral\n",
    "plt.figure(figsize=(8, 6))\n",
    "plt.plot(thresholds, tpr, label='TPR (Recall)', color='blue')\n",
    "plt.xlabel('Umbral')\n",
    "plt.ylabel('TPR (Recall)')\n",
    "plt.title('TPR vs Umbral')\n",
    "plt.axvline(x=0.05, color='red', linestyle='--', label='Umbral 0.05')\n",
    "plt.axvline(x=0.03, color='green', linestyle='--', label='Umbral 0.03')\n",
    "plt.legend()\n",
    "plt.grid()\n",
    "plt.show()"
   ]
  },
  {
   "cell_type": "code",
   "execution_count": null,
   "id": "0c90a985",
   "metadata": {},
   "outputs": [],
   "source": []
  },
  {
   "cell_type": "code",
   "execution_count": null,
   "id": "4851c484",
   "metadata": {},
   "outputs": [],
   "source": []
  },
  {
   "cell_type": "code",
   "execution_count": 188,
   "id": "3d0dd949",
   "metadata": {},
   "outputs": [
    {
     "name": "stdout",
     "output_type": "stream",
     "text": [
      "\n",
      "=== RESULTADOS DEL ENSEMBLE ===\n",
      "Matriz de confusión TEST:\n",
      "[[72 93]\n",
      " [ 3 36]]\n",
      "\n",
      "Reporte de clasificación TEST:\n",
      "              precision    recall  f1-score   support\n",
      "\n",
      "           0       0.96      0.44      0.60       165\n",
      "           1       0.28      0.92      0.43        39\n",
      "\n",
      "    accuracy                           0.53       204\n",
      "   macro avg       0.62      0.68      0.51       204\n",
      "weighted avg       0.83      0.53      0.57       204\n",
      "\n",
      "AUC-ROC Ensemble: 0.7507\n"
     ]
    }
   ],
   "source": [
    "from sklearn.ensemble import RandomForestClassifier\n",
    "from sklearn.pipeline import Pipeline\n",
    "\n",
    "rf = RandomForestClassifier(\n",
    "    class_weight='balanced',\n",
    "    max_depth=5,\n",
    "    n_estimators=100\n",
    ")\n",
    "\n",
    "rf.fit(X_train, y_train)\n",
    "\n",
    "ensemble_pred = (0.7*y_proba_test + 0.3*rf.predict_proba(X_test)[:,1]) > 0.39\n",
    "y_pred_ensemble = ensemble_pred.astype(int)\n",
    "\n",
    "# Generar reporte de clasificación completo\n",
    "print(\"\\n=== RESULTADOS DEL ENSEMBLE ===\")\n",
    "print(\"Matriz de confusión TEST:\")\n",
    "print(confusion_matrix(y_test, y_pred_ensemble))\n",
    "print(\"\\nReporte de clasificación TEST:\")\n",
    "print(classification_report(y_test, y_pred_ensemble, zero_division=0))\n",
    "print(f\"AUC-ROC Ensemble: {roc_auc_score(y_test, 0.7*y_proba_test + 0.3*rf.predict_proba(X_test)[:,1]):.4f}\")"
   ]
  },
  {
   "cell_type": "code",
   "execution_count": null,
   "id": "40117043",
   "metadata": {},
   "outputs": [],
   "source": [
    "\n",
    "\n"
   ]
  },
  {
   "cell_type": "code",
   "execution_count": null,
   "id": "a9b882ad",
   "metadata": {},
   "outputs": [],
   "source": []
  },
  {
   "cell_type": "code",
   "execution_count": null,
   "id": "0a84d2d8",
   "metadata": {},
   "outputs": [],
   "source": []
  },
  {
   "cell_type": "code",
   "execution_count": null,
   "id": "9d09e492",
   "metadata": {},
   "outputs": [],
   "source": []
  },
  {
   "cell_type": "code",
   "execution_count": null,
   "id": "e6265b17",
   "metadata": {},
   "outputs": [],
   "source": [
    "\n"
   ]
  },
  {
   "cell_type": "code",
   "execution_count": null,
   "id": "cee80082",
   "metadata": {},
   "outputs": [],
   "source": []
  },
  {
   "cell_type": "code",
   "execution_count": null,
   "id": "c782491e",
   "metadata": {},
   "outputs": [],
   "source": []
  },
  {
   "cell_type": "code",
   "execution_count": null,
   "id": "01420d72",
   "metadata": {},
   "outputs": [],
   "source": []
  }
 ],
 "metadata": {
  "kernelspec": {
   "display_name": "ads2",
   "language": "python",
   "name": "python3"
  },
  "language_info": {
   "codemirror_mode": {
    "name": "ipython",
    "version": 3
   },
   "file_extension": ".py",
   "mimetype": "text/x-python",
   "name": "python",
   "nbconvert_exporter": "python",
   "pygments_lexer": "ipython3",
   "version": "3.10.15"
  }
 },
 "nbformat": 4,
 "nbformat_minor": 5
}
