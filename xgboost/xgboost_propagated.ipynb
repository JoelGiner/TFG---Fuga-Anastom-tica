{
 "cells": [
  {
   "cell_type": "code",
   "execution_count": 1,
   "id": "f75d7a18",
   "metadata": {},
   "outputs": [],
   "source": [
    "import pandas as pd\n",
    "import numpy as np\n",
    "import xgboost as xgb\n",
    "import dalex as dx\n",
    "from sklearn.model_selection import train_test_split\n",
    "from sklearn.preprocessing import LabelEncoder\n",
    "from sklearn.metrics import confusion_matrix, classification_report, precision_recall_curve"
   ]
  },
  {
   "cell_type": "code",
   "execution_count": 2,
   "id": "8c3bad74",
   "metadata": {},
   "outputs": [
    {
     "name": "stdout",
     "output_type": "stream",
     "text": [
      "30\n",
      "28\n"
     ]
    }
   ],
   "source": [
    "df_modelos = pd.read_csv(\"../data/datosFinales/diferencias_propagated.csv\", sep = \";\")\n",
    "#dropped columns which are 0\n",
    "df_modelos = df_modelos.loc[:, ~df_modelos.columns.str.contains('diferencia')]\n",
    "categoricas = pd.read_csv(\"../data/categoricas.csv\", sep = \",\").squeeze().tolist()\n",
    "print(len(categoricas))\n",
    "#remove columns with many NAs\n",
    "categoricas.remove('tipo_plastia')\n",
    "categoricas.remove('via_asc_plastia')\n",
    "print(len(categoricas))"
   ]
  },
  {
   "cell_type": "code",
   "execution_count": 3,
   "id": "392aed55",
   "metadata": {},
   "outputs": [
    {
     "data": {
      "text/html": [
       "<div>\n",
       "<style scoped>\n",
       "    .dataframe tbody tr th:only-of-type {\n",
       "        vertical-align: middle;\n",
       "    }\n",
       "\n",
       "    .dataframe tbody tr th {\n",
       "        vertical-align: top;\n",
       "    }\n",
       "\n",
       "    .dataframe thead th {\n",
       "        text-align: right;\n",
       "    }\n",
       "</style>\n",
       "<table border=\"1\" class=\"dataframe\">\n",
       "  <thead>\n",
       "    <tr style=\"text-align: right;\">\n",
       "      <th></th>\n",
       "      <th>id_registro</th>\n",
       "      <th>sexo</th>\n",
       "      <th>edad</th>\n",
       "      <th>peso</th>\n",
       "      <th>talla</th>\n",
       "      <th>imc</th>\n",
       "      <th>neoadyuvancia</th>\n",
       "      <th>localizacion</th>\n",
       "      <th>tipo_histologico</th>\n",
       "      <th>ct</th>\n",
       "      <th>...</th>\n",
       "      <th>linfocitos_5</th>\n",
       "      <th>frec_card_5</th>\n",
       "      <th>plaquetas_5</th>\n",
       "      <th>eva_5</th>\n",
       "      <th>tas_5</th>\n",
       "      <th>leucocitos_5</th>\n",
       "      <th>tad_5</th>\n",
       "      <th>quick_5</th>\n",
       "      <th>sat_oxig_5</th>\n",
       "      <th>albumina_5</th>\n",
       "    </tr>\n",
       "  </thead>\n",
       "  <tbody>\n",
       "    <tr>\n",
       "      <th>0</th>\n",
       "      <td>92-1</td>\n",
       "      <td>0.0</td>\n",
       "      <td>61.0</td>\n",
       "      <td>79.0</td>\n",
       "      <td>178.0</td>\n",
       "      <td>24.9</td>\n",
       "      <td>1.0</td>\n",
       "      <td>4.0</td>\n",
       "      <td>1.0</td>\n",
       "      <td>4.0</td>\n",
       "      <td>...</td>\n",
       "      <td>7.403061</td>\n",
       "      <td>88.0</td>\n",
       "      <td>12.083911</td>\n",
       "      <td>4.0</td>\n",
       "      <td>110.0</td>\n",
       "      <td>8.625330</td>\n",
       "      <td>75.0</td>\n",
       "      <td>105.0</td>\n",
       "      <td>96.0</td>\n",
       "      <td>3.1</td>\n",
       "    </tr>\n",
       "    <tr>\n",
       "      <th>1</th>\n",
       "      <td>92-2</td>\n",
       "      <td>1.0</td>\n",
       "      <td>79.0</td>\n",
       "      <td>95.0</td>\n",
       "      <td>170.0</td>\n",
       "      <td>32.9</td>\n",
       "      <td>0.0</td>\n",
       "      <td>4.0</td>\n",
       "      <td>1.0</td>\n",
       "      <td>2.0</td>\n",
       "      <td>...</td>\n",
       "      <td>7.193686</td>\n",
       "      <td>99.0</td>\n",
       "      <td>12.175619</td>\n",
       "      <td>1.0</td>\n",
       "      <td>149.0</td>\n",
       "      <td>9.093919</td>\n",
       "      <td>77.0</td>\n",
       "      <td>105.0</td>\n",
       "      <td>93.0</td>\n",
       "      <td>3.5</td>\n",
       "    </tr>\n",
       "    <tr>\n",
       "      <th>2</th>\n",
       "      <td>92-3</td>\n",
       "      <td>0.0</td>\n",
       "      <td>74.0</td>\n",
       "      <td>94.0</td>\n",
       "      <td>175.0</td>\n",
       "      <td>30.7</td>\n",
       "      <td>1.0</td>\n",
       "      <td>4.0</td>\n",
       "      <td>NaN</td>\n",
       "      <td>4.0</td>\n",
       "      <td>...</td>\n",
       "      <td>7.074117</td>\n",
       "      <td>82.0</td>\n",
       "      <td>11.751950</td>\n",
       "      <td>4.0</td>\n",
       "      <td>186.0</td>\n",
       "      <td>8.682877</td>\n",
       "      <td>78.0</td>\n",
       "      <td>105.0</td>\n",
       "      <td>93.0</td>\n",
       "      <td>4.0</td>\n",
       "    </tr>\n",
       "    <tr>\n",
       "      <th>3</th>\n",
       "      <td>92-4</td>\n",
       "      <td>0.0</td>\n",
       "      <td>74.0</td>\n",
       "      <td>63.0</td>\n",
       "      <td>168.0</td>\n",
       "      <td>22.3</td>\n",
       "      <td>2.0</td>\n",
       "      <td>3.0</td>\n",
       "      <td>1.0</td>\n",
       "      <td>5.0</td>\n",
       "      <td>...</td>\n",
       "      <td>7.082549</td>\n",
       "      <td>120.0</td>\n",
       "      <td>11.580593</td>\n",
       "      <td>7.0</td>\n",
       "      <td>90.0</td>\n",
       "      <td>9.121618</td>\n",
       "      <td>35.0</td>\n",
       "      <td>105.0</td>\n",
       "      <td>80.0</td>\n",
       "      <td>3.5</td>\n",
       "    </tr>\n",
       "    <tr>\n",
       "      <th>4</th>\n",
       "      <td>92-5</td>\n",
       "      <td>0.0</td>\n",
       "      <td>62.0</td>\n",
       "      <td>57.0</td>\n",
       "      <td>157.0</td>\n",
       "      <td>23.1</td>\n",
       "      <td>2.0</td>\n",
       "      <td>4.0</td>\n",
       "      <td>1.0</td>\n",
       "      <td>4.0</td>\n",
       "      <td>...</td>\n",
       "      <td>7.082549</td>\n",
       "      <td>112.0</td>\n",
       "      <td>12.464587</td>\n",
       "      <td>2.0</td>\n",
       "      <td>102.0</td>\n",
       "      <td>8.965845</td>\n",
       "      <td>56.0</td>\n",
       "      <td>105.0</td>\n",
       "      <td>94.0</td>\n",
       "      <td>3.8</td>\n",
       "    </tr>\n",
       "    <tr>\n",
       "      <th>...</th>\n",
       "      <td>...</td>\n",
       "      <td>...</td>\n",
       "      <td>...</td>\n",
       "      <td>...</td>\n",
       "      <td>...</td>\n",
       "      <td>...</td>\n",
       "      <td>...</td>\n",
       "      <td>...</td>\n",
       "      <td>...</td>\n",
       "      <td>...</td>\n",
       "      <td>...</td>\n",
       "      <td>...</td>\n",
       "      <td>...</td>\n",
       "      <td>...</td>\n",
       "      <td>...</td>\n",
       "      <td>...</td>\n",
       "      <td>...</td>\n",
       "      <td>...</td>\n",
       "      <td>...</td>\n",
       "      <td>...</td>\n",
       "      <td>...</td>\n",
       "    </tr>\n",
       "    <tr>\n",
       "      <th>723</th>\n",
       "      <td>613-30</td>\n",
       "      <td>0.0</td>\n",
       "      <td>72.0</td>\n",
       "      <td>83.0</td>\n",
       "      <td>169.0</td>\n",
       "      <td>29.1</td>\n",
       "      <td>1.0</td>\n",
       "      <td>3.0</td>\n",
       "      <td>1.0</td>\n",
       "      <td>3.0</td>\n",
       "      <td>...</td>\n",
       "      <td>6.552508</td>\n",
       "      <td>91.0</td>\n",
       "      <td>12.185875</td>\n",
       "      <td>3.0</td>\n",
       "      <td>104.0</td>\n",
       "      <td>9.787010</td>\n",
       "      <td>60.0</td>\n",
       "      <td>83.0</td>\n",
       "      <td>97.0</td>\n",
       "      <td>2.4</td>\n",
       "    </tr>\n",
       "    <tr>\n",
       "      <th>724</th>\n",
       "      <td>613-31</td>\n",
       "      <td>1.0</td>\n",
       "      <td>40.0</td>\n",
       "      <td>58.0</td>\n",
       "      <td>160.0</td>\n",
       "      <td>22.7</td>\n",
       "      <td>0.0</td>\n",
       "      <td>5.0</td>\n",
       "      <td>1.0</td>\n",
       "      <td>3.0</td>\n",
       "      <td>...</td>\n",
       "      <td>5.638355</td>\n",
       "      <td>77.0</td>\n",
       "      <td>12.417148</td>\n",
       "      <td>2.0</td>\n",
       "      <td>112.0</td>\n",
       "      <td>8.691315</td>\n",
       "      <td>67.0</td>\n",
       "      <td>91.0</td>\n",
       "      <td>98.0</td>\n",
       "      <td>2.4</td>\n",
       "    </tr>\n",
       "    <tr>\n",
       "      <th>725</th>\n",
       "      <td>613-32</td>\n",
       "      <td>0.0</td>\n",
       "      <td>59.0</td>\n",
       "      <td>82.0</td>\n",
       "      <td>171.0</td>\n",
       "      <td>28.0</td>\n",
       "      <td>1.0</td>\n",
       "      <td>7.0</td>\n",
       "      <td>1.0</td>\n",
       "      <td>2.0</td>\n",
       "      <td>...</td>\n",
       "      <td>7.467942</td>\n",
       "      <td>56.0</td>\n",
       "      <td>12.842652</td>\n",
       "      <td>0.0</td>\n",
       "      <td>110.0</td>\n",
       "      <td>8.925454</td>\n",
       "      <td>56.0</td>\n",
       "      <td>88.0</td>\n",
       "      <td>98.0</td>\n",
       "      <td>2.4</td>\n",
       "    </tr>\n",
       "    <tr>\n",
       "      <th>726</th>\n",
       "      <td>617-1</td>\n",
       "      <td>0.0</td>\n",
       "      <td>74.0</td>\n",
       "      <td>53.0</td>\n",
       "      <td>160.0</td>\n",
       "      <td>20.7</td>\n",
       "      <td>0.0</td>\n",
       "      <td>6.0</td>\n",
       "      <td>2.0</td>\n",
       "      <td>2.0</td>\n",
       "      <td>...</td>\n",
       "      <td>7.244942</td>\n",
       "      <td>67.0</td>\n",
       "      <td>11.925042</td>\n",
       "      <td>3.0</td>\n",
       "      <td>108.0</td>\n",
       "      <td>8.140607</td>\n",
       "      <td>67.0</td>\n",
       "      <td>54.0</td>\n",
       "      <td>94.0</td>\n",
       "      <td>3.1</td>\n",
       "    </tr>\n",
       "    <tr>\n",
       "      <th>727</th>\n",
       "      <td>617-2</td>\n",
       "      <td>0.0</td>\n",
       "      <td>75.0</td>\n",
       "      <td>47.0</td>\n",
       "      <td>160.0</td>\n",
       "      <td>18.4</td>\n",
       "      <td>2.0</td>\n",
       "      <td>3.0</td>\n",
       "      <td>1.0</td>\n",
       "      <td>4.0</td>\n",
       "      <td>...</td>\n",
       "      <td>7.244942</td>\n",
       "      <td>56.0</td>\n",
       "      <td>11.931642</td>\n",
       "      <td>0.0</td>\n",
       "      <td>123.0</td>\n",
       "      <td>9.161255</td>\n",
       "      <td>88.0</td>\n",
       "      <td>105.0</td>\n",
       "      <td>96.0</td>\n",
       "      <td>3.8</td>\n",
       "    </tr>\n",
       "  </tbody>\n",
       "</table>\n",
       "<p>728 rows × 129 columns</p>\n",
       "</div>"
      ],
      "text/plain": [
       "    id_registro  sexo  edad  peso  talla   imc  neoadyuvancia  localizacion  \\\n",
       "0          92-1   0.0  61.0  79.0  178.0  24.9            1.0           4.0   \n",
       "1          92-2   1.0  79.0  95.0  170.0  32.9            0.0           4.0   \n",
       "2          92-3   0.0  74.0  94.0  175.0  30.7            1.0           4.0   \n",
       "3          92-4   0.0  74.0  63.0  168.0  22.3            2.0           3.0   \n",
       "4          92-5   0.0  62.0  57.0  157.0  23.1            2.0           4.0   \n",
       "..          ...   ...   ...   ...    ...   ...            ...           ...   \n",
       "723      613-30   0.0  72.0  83.0  169.0  29.1            1.0           3.0   \n",
       "724      613-31   1.0  40.0  58.0  160.0  22.7            0.0           5.0   \n",
       "725      613-32   0.0  59.0  82.0  171.0  28.0            1.0           7.0   \n",
       "726       617-1   0.0  74.0  53.0  160.0  20.7            0.0           6.0   \n",
       "727       617-2   0.0  75.0  47.0  160.0  18.4            2.0           3.0   \n",
       "\n",
       "     tipo_histologico   ct  ...  linfocitos_5  frec_card_5  plaquetas_5  \\\n",
       "0                 1.0  4.0  ...      7.403061         88.0    12.083911   \n",
       "1                 1.0  2.0  ...      7.193686         99.0    12.175619   \n",
       "2                 NaN  4.0  ...      7.074117         82.0    11.751950   \n",
       "3                 1.0  5.0  ...      7.082549        120.0    11.580593   \n",
       "4                 1.0  4.0  ...      7.082549        112.0    12.464587   \n",
       "..                ...  ...  ...           ...          ...          ...   \n",
       "723               1.0  3.0  ...      6.552508         91.0    12.185875   \n",
       "724               1.0  3.0  ...      5.638355         77.0    12.417148   \n",
       "725               1.0  2.0  ...      7.467942         56.0    12.842652   \n",
       "726               2.0  2.0  ...      7.244942         67.0    11.925042   \n",
       "727               1.0  4.0  ...      7.244942         56.0    11.931642   \n",
       "\n",
       "     eva_5  tas_5  leucocitos_5  tad_5  quick_5  sat_oxig_5  albumina_5  \n",
       "0      4.0  110.0      8.625330   75.0    105.0        96.0         3.1  \n",
       "1      1.0  149.0      9.093919   77.0    105.0        93.0         3.5  \n",
       "2      4.0  186.0      8.682877   78.0    105.0        93.0         4.0  \n",
       "3      7.0   90.0      9.121618   35.0    105.0        80.0         3.5  \n",
       "4      2.0  102.0      8.965845   56.0    105.0        94.0         3.8  \n",
       "..     ...    ...           ...    ...      ...         ...         ...  \n",
       "723    3.0  104.0      9.787010   60.0     83.0        97.0         2.4  \n",
       "724    2.0  112.0      8.691315   67.0     91.0        98.0         2.4  \n",
       "725    0.0  110.0      8.925454   56.0     88.0        98.0         2.4  \n",
       "726    3.0  108.0      8.140607   67.0     54.0        94.0         3.1  \n",
       "727    0.0  123.0      9.161255   88.0    105.0        96.0         3.8  \n",
       "\n",
       "[728 rows x 129 columns]"
      ]
     },
     "execution_count": 3,
     "metadata": {},
     "output_type": "execute_result"
    }
   ],
   "source": [
    "df_modelos"
   ]
  },
  {
   "cell_type": "code",
   "execution_count": 4,
   "id": "342f3c3b",
   "metadata": {},
   "outputs": [],
   "source": [
    "idPats = np.unique(df_modelos.id_registro)\n",
    "\n",
    "df_modelos = df_modelos.loc[:, ~df_modelos.columns.str.endswith('_5')]\n",
    "df_modelos = df_modelos.loc[:, ~df_modelos.columns.str.endswith('_4')]\n",
    "df_modelos = df_modelos.loc[:, ~df_modelos.columns.str.endswith('_3')]\n",
    "#df_modelos = df_modelos.loc[:, ~df_modelos.columns.str.endswith('_2')]"
   ]
  },
  {
   "cell_type": "code",
   "execution_count": null,
   "id": "b676b97c",
   "metadata": {},
   "outputs": [],
   "source": []
  },
  {
   "cell_type": "code",
   "execution_count": null,
   "id": "20824e11",
   "metadata": {},
   "outputs": [],
   "source": []
  },
  {
   "cell_type": "code",
   "execution_count": null,
   "id": "79dc8c25",
   "metadata": {},
   "outputs": [],
   "source": []
  },
  {
   "cell_type": "markdown",
   "id": "17da036e",
   "metadata": {},
   "source": [
    "# Modelo Xgboost\n"
   ]
  },
  {
   "cell_type": "code",
   "execution_count": 5,
   "id": "9b3af39d",
   "metadata": {},
   "outputs": [],
   "source": [
    "np.random.seed(14)"
   ]
  },
  {
   "cell_type": "code",
   "execution_count": 6,
   "id": "4951750a",
   "metadata": {},
   "outputs": [],
   "source": [
    "df_tmp = df_modelos.copy()[df_modelos['fuga'] != -1]\n",
    "cats = []\n",
    "\n",
    "columnas_a_eliminar = [col for col in df_tmp.columns if \"fuga\" in col]\n",
    "X = df_tmp.drop(columnas_a_eliminar, axis=1)\n",
    "X = X.drop(['id_registro'], axis=1)\n",
    "\n",
    "y = df_tmp['fuga']"
   ]
  },
  {
   "cell_type": "code",
   "execution_count": 7,
   "id": "225b4748",
   "metadata": {},
   "outputs": [],
   "source": [
    "from sklearn.pipeline import Pipeline\n",
    "from sklearn.model_selection import cross_val_score\n",
    "from xgboost import XGBClassifier\n",
    "from sklearn.preprocessing import StandardScaler, OneHotEncoder"
   ]
  },
  {
   "cell_type": "code",
   "execution_count": null,
   "id": "cb2de588",
   "metadata": {},
   "outputs": [],
   "source": []
  },
  {
   "cell_type": "code",
   "execution_count": null,
   "id": "da6fa745",
   "metadata": {},
   "outputs": [],
   "source": []
  },
  {
   "cell_type": "code",
   "execution_count": 8,
   "id": "b449c761",
   "metadata": {},
   "outputs": [],
   "source": [
    "# Instanciar el codificador\n",
    "encoder = OneHotEncoder(handle_unknown=\"ignore\", sparse_output=False)\n",
    "\n",
    "# Ajustar y transformar las columnas categóricas\n",
    "X_cat_encoded = encoder.fit_transform(X[cats])\n",
    "\n",
    "# Crear DataFrame con los nuevos nombres de columnas\n",
    "cat_encoded_df = pd.DataFrame(\n",
    "    X_cat_encoded,\n",
    "    columns=encoder.get_feature_names_out(cats),\n",
    "    index=X.index  # mantener los índices originales\n",
    ")\n",
    "\n",
    "# Concatenar con el resto de columnas no categóricas\n",
    "X_encoded = pd.concat([X.drop(columns=cats), cat_encoded_df], axis=1)"
   ]
  },
  {
   "cell_type": "code",
   "execution_count": 9,
   "id": "f3f3164d",
   "metadata": {},
   "outputs": [],
   "source": [
    "X_train, X_test, y_train, y_test = train_test_split(X_encoded, y, test_size=0.3, stratify=y, random_state=14)\n",
    "#X_train, X_val, y_train, y_val = train_test_split(X_train, y_train, test_size=0.3, stratify=y_train, random_state=14)"
   ]
  },
  {
   "cell_type": "code",
   "execution_count": null,
   "id": "e275b886",
   "metadata": {},
   "outputs": [],
   "source": []
  },
  {
   "cell_type": "code",
   "execution_count": 10,
   "id": "ba5ca8b1",
   "metadata": {},
   "outputs": [],
   "source": [
    "final_params = {\n",
    "    'objective': 'binary:logistic',\n",
    "    'eval_metric': ['auc', 'error'],\n",
    "    'max_depth': 4,  # Reducida desde 5\n",
    "    'learning_rate': 0.001,  # Reducida desde 0.05\n",
    "    'subsample': 0.3,  # Más bajo para más regularización\n",
    "    'colsample_bytree': 0.7,\n",
    "    'min_child_weight': 5,  # Aumentada desde 3\n",
    "    'gamma': 0.3,  # Aumentada desde 0.2\n",
    "    'reg_alpha': 2,  # Aumentada desde 1\n",
    "    'reg_lambda': 15,  # Aumentada desde 10\n",
    "    'scale_pos_weight': len(y_train[y_train==0])/len(y_train[y_train==1]) * 1.2,  # Balance ajustado\n",
    "    'seed': 14,\n",
    "    'tree_method': 'hist'\n",
    "}\n"
   ]
  },
  {
   "cell_type": "code",
   "execution_count": 11,
   "id": "bd7febe7",
   "metadata": {},
   "outputs": [],
   "source": [
    "\n",
    "# Encode categorical variables in X_train and X_val\n",
    "X_train_encoded = X_train.copy()\n",
    "X_test_encoded = X_test.copy()\n",
    "\n",
    "# Convertir a DMatrix\n",
    "\n",
    "dtrain = xgb.DMatrix(X_train_encoded, label=y_train)\n",
    "dtest = xgb.DMatrix(X_test_encoded)\n",
    "\n",
    "\n",
    "#evals_result = {}\n",
    "model = xgb.train(\n",
    "    final_params,\n",
    "    dtrain,\n",
    "    num_boost_round=2000,  # Más iteraciones posibles\n",
    "    verbose_eval=50\n",
    ")\n",
    "\n"
   ]
  },
  {
   "cell_type": "code",
   "execution_count": 12,
   "id": "652b5088",
   "metadata": {},
   "outputs": [],
   "source": [
    "from sklearn.metrics import accuracy_score\n",
    "#calcula el f1 score del modelo\n",
    "from sklearn.metrics import f1_score"
   ]
  },
  {
   "cell_type": "code",
   "execution_count": 13,
   "id": "4ae019e6",
   "metadata": {},
   "outputs": [
    {
     "name": "stdout",
     "output_type": "stream",
     "text": [
      "\n",
      "=== RESULTADOS FINALES OPTIMIZADOS ===\n",
      "Threshold óptimo: 0.5000\n",
      "\n",
      "Matriz de confusión TRAIN:\n",
      "[[305  77]\n",
      " [ 10  82]]\n",
      "\n",
      "Reporte de clasificación TRAIN:\n",
      "              precision    recall  f1-score   support\n",
      "\n",
      "           0       0.97      0.80      0.88       382\n",
      "           1       0.52      0.89      0.65        92\n",
      "\n",
      "    accuracy                           0.82       474\n",
      "   macro avg       0.74      0.84      0.76       474\n",
      "weighted avg       0.88      0.82      0.83       474\n",
      "\n",
      "Accuracy: 0.8164556962025317\n",
      "AUC: 0.8449\n",
      "F1 score: 0.6533864541832669\n"
     ]
    }
   ],
   "source": [
    "y_proba_train = model.predict(dtrain)\n",
    "y_pred_train = (y_proba_train >= 0.5).astype(int)\n",
    "\n",
    "print(\"\\n=== RESULTADOS FINALES OPTIMIZADOS ===\")\n",
    "print(f\"Threshold óptimo: {0.5:.4f}\")\n",
    "print(\"\\nMatriz de confusión TRAIN:\")\n",
    "print(confusion_matrix(y_train, y_pred_train))\n",
    "print(\"\\nReporte de clasificación TRAIN:\")\n",
    "print(classification_report(y_train, y_pred_train))\n",
    "\n",
    "from sklearn.metrics import roc_auc_score\n",
    "auc = roc_auc_score(y_train, y_pred_train)\n",
    "print(\"Accuracy:\", accuracy_score(y_train, y_pred_train))\n",
    "print(f\"AUC: {auc:.4f}\")\n",
    "f1 = f1_score(y_train, y_pred_train)\n",
    "print(\"F1 score:\", f1)"
   ]
  },
  {
   "cell_type": "code",
   "execution_count": 14,
   "id": "f35bc50c",
   "metadata": {},
   "outputs": [
    {
     "name": "stdout",
     "output_type": "stream",
     "text": [
      "\n",
      "=== RESULTADOS FINALES OPTIMIZADOS ===\n",
      "Threshold óptimo: 0.5000\n",
      "\n",
      "Matriz de confusión TEST:\n",
      "[[104  61]\n",
      " [ 15  24]]\n",
      "\n",
      "Reporte de clasificación TEST:\n",
      "              precision    recall  f1-score   support\n",
      "\n",
      "           0       0.87      0.63      0.73       165\n",
      "           1       0.28      0.62      0.39        39\n",
      "\n",
      "    accuracy                           0.63       204\n",
      "   macro avg       0.58      0.62      0.56       204\n",
      "weighted avg       0.76      0.63      0.67       204\n",
      "\n",
      "Accuracy: 0.8164556962025317\n",
      "AUC: 0.7089\n",
      "F1 score: 0.3870967741935484\n"
     ]
    }
   ],
   "source": [
    "y_proba_test = model.predict(dtest)\n",
    "y_pred_test = (y_proba_test >= 0.5).astype(int)\n",
    "\n",
    "print(\"\\n=== RESULTADOS FINALES OPTIMIZADOS ===\")\n",
    "print(f\"Threshold óptimo: {0.5:.4f}\")\n",
    "print(\"\\nMatriz de confusión TEST:\")\n",
    "print(confusion_matrix(y_test, y_pred_test))\n",
    "print(\"\\nReporte de clasificación TEST:\")\n",
    "print(classification_report(y_test, y_pred_test))\n",
    "#auc\n",
    "from sklearn.metrics import roc_auc_score\n",
    "auc = roc_auc_score(y_test, y_proba_test)\n",
    "print(\"Accuracy:\", accuracy_score(y_train, y_pred_train))\n",
    "print(f\"AUC: {auc:.4f}\")\n",
    "f1 = f1_score(y_test, y_pred_test)\n",
    "print(\"F1 score:\", f1)"
   ]
  },
  {
   "cell_type": "code",
   "execution_count": 15,
   "id": "692aecb0",
   "metadata": {},
   "outputs": [
    {
     "data": {
      "image/png": "[encoded data removed]",
      "text/plain": [
       "<Figure size 800x600 with 1 Axes>"
      ]
     },
     "metadata": {},
     "output_type": "display_data"
    },
    {
     "data": {
      "image/png": "[encoded data removed]",
      "text/plain": [
       "<Figure size 800x600 with 1 Axes>"
      ]
     },
     "metadata": {},
     "output_type": "display_data"
    }
   ],
   "source": [
    "#show the roc curve for the model \"modelo_hgb\"\n",
    "import numpy as np\n",
    "from sklearn import metrics\n",
    "import matplotlib.pyplot as plt\n",
    "\n",
    "fpr, tpr, thresholds = metrics.roc_curve(y_train, y_proba_train, pos_label=1)\n",
    "#graficar la curva ROC\n",
    "plt.figure(figsize=(8, 6))\n",
    "plt.plot(fpr, tpr, label='Curva ROC', color='blue')\n",
    "plt.plot([0, 1], [0, 1], 'r--')  # Línea diagonal\n",
    "plt.xlim([0.0, 1.0])\n",
    "plt.ylim([0.0, 1.05])\n",
    "plt.xlabel('Tasa de Falsos Positivos')\n",
    "plt.ylabel('Tasa de Verdaderos Positivos')\n",
    "plt.title('Curva ROC (conjunto de entrenamiento)')\n",
    "plt.legend(loc='lower right')\n",
    "plt.grid()\n",
    "plt.show()\n",
    "\n",
    "# dibuja el fpr vs el umbral\n",
    "plt.figure(figsize=(8, 6))\n",
    "plt.plot(thresholds, tpr, label='TPR (Recall)', color='blue')\n",
    "plt.xlabel('Umbral')\n",
    "plt.ylabel('TPR (Recall)')\n",
    "plt.title('TPR vs Umbral')\n",
    "plt.axvline(x=0.05, color='red', linestyle='--', label='Umbral 0.05')\n",
    "plt.axvline(x=0.03, color='green', linestyle='--', label='Umbral 0.03')\n",
    "plt.legend()\n",
    "plt.grid()\n",
    "plt.show()\n",
    "\n",
    "\n"
   ]
  },
  {
   "cell_type": "code",
   "execution_count": 16,
   "id": "92cebe2f",
   "metadata": {},
   "outputs": [
    {
     "data": {
      "image/png": "[encoded data removed]",
      "text/plain": [
       "<Figure size 800x600 with 1 Axes>"
      ]
     },
     "metadata": {},
     "output_type": "display_data"
    },
    {
     "data": {
      "image/png": "[encoded data removed]",
      "text/plain": [
       "<Figure size 800x600 with 1 Axes>"
      ]
     },
     "metadata": {},
     "output_type": "display_data"
    }
   ],
   "source": [
    "fpr, tpr, thresholds = metrics.roc_curve(y_test, y_proba_test, pos_label=1)\n",
    "#graficar la curva ROC\n",
    "plt.figure(figsize=(8, 6))\n",
    "plt.plot(fpr, tpr, label='Curva ROC', color='blue')\n",
    "plt.plot([0, 1], [0, 1], 'r--')  # Línea diagonal\n",
    "plt.xlim([0.0, 1.0])\n",
    "plt.ylim([0.0, 1.05])\n",
    "plt.xlabel('Tasa de Falsos Positivos')\n",
    "plt.ylabel('Tasa de Verdaderos Positivos')\n",
    "plt.title('Curva ROC (conjunto de prueba)')\n",
    "plt.legend(loc='lower right')\n",
    "plt.grid()\n",
    "plt.show()\n",
    "\n",
    "# dibuja el fpr vs el umbral\n",
    "plt.figure(figsize=(8, 6))\n",
    "plt.plot(thresholds, tpr, label='TPR (Recall)', color='blue')\n",
    "plt.xlabel('Umbral')\n",
    "plt.ylabel('TPR (Recall)')\n",
    "plt.title('TPR vs Umbral')\n",
    "plt.axvline(x=0.05, color='red', linestyle='--', label='Umbral 0.05')\n",
    "plt.axvline(x=0.03, color='green', linestyle='--', label='Umbral 0.03')\n",
    "plt.legend()\n",
    "plt.grid()\n",
    "plt.show()\n",
    "\n"
   ]
  },
  {
   "cell_type": "code",
   "execution_count": 17,
   "id": "82d73a32",
   "metadata": {},
   "outputs": [
    {
     "name": "stdout",
     "output_type": "stream",
     "text": [
      "Preparation of a new explainer is initiated\n",
      "\n",
      "  -> data              : 678 rows 76 cols\n",
      "  -> target variable   : Parameter 'y' was a pandas.Series. Converted to a numpy.ndarray.\n",
      "  -> target variable   : 678 values\n",
      "  -> model_class       : xgboost.core.Booster (default)\n",
      "  -> label             : Not specified, model's class short name will be used. (default)\n",
      "  -> predict function  : <function yhat_xgboost at 0x14fdcc700> will be used (default)\n",
      "  -> predict function  : Accepts only pandas.DataFrame, numpy.ndarray causes problems.\n",
      "  -> predicted values  : min = 0.317, mean = 0.472, max = 0.681\n",
      "  -> model type        : 'model_type' not provided and cannot be extracted.\n",
      "  -> model type        : Some functionalities won't be available.\n",
      "  -> residual function : difference between y and yhat (default)\n",
      "  -> residuals         : min = -0.673, mean = -0.279, max = 0.606\n",
      "  -> model_info        : package xgboost\n",
      "\n",
      "A new explainer has been created!\n"
     ]
    },
    {
     "data": {
      "application/vnd.plotly.v1+json": {
       "config": {
        "displaylogo": false,
        "modeBarButtonsToRemove": [
         "sendDataToCloud",
         "lasso2d",
         "autoScale2d",
         "select2d",
         "zoom2d",
         "pan2d",
         "zoomIn2d",
         "zoomOut2d",
         "resetScale2d",
         "toggleSpikelines",
         "hoverCompareCartesian",
         "hoverClosestCartesian"
        ],
        "plotlyServerURL": "https://plot.ly",
        "staticPlot": false,
        "toImageButtonOptions": {
         "height": null,
         "width": null
        }
       },
       "data": [
        {
         "base": 0.4539409609808753,
         "hoverinfo": "text",
         "hoverlabel": {
          "bgcolor": "rgba(0,0,0,0.8)"
         },
         "hovertext": [
          "Model: Booster loss after<br>variable: localizacion is permuted: 0.463<br>Drop-out loss change: +0.009",
          "Model: Booster loss after<br>variable: pcr_2 is permuted: 0.459<br>Drop-out loss change: +0.005",
          "Model: Booster loss after<br>variable: frec_card_1 is permuted: 0.457<br>Drop-out loss change: +0.003",
          "Model: Booster loss after<br>variable: neutrofilos_2 is permuted: 0.455<br>Drop-out loss change: +0.001",
          "Model: Booster loss after<br>variable: pcr_0 is permuted: 0.455<br>Drop-out loss change: +0.001",
          "Model: Booster loss after<br>variable: quick_2 is permuted: 0.455<br>Drop-out loss change: +0.001",
          "Model: Booster loss after<br>variable: tas_1 is permuted: 0.455<br>Drop-out loss change: +0.001",
          "Model: Booster loss after<br>variable: pcr_1 is permuted: 0.455<br>Drop-out loss change: +0.001",
          "Model: Booster loss after<br>variable: temp_corp_1 is permuted: 0.455<br>Drop-out loss change: +0.001",
          "Model: Booster loss after<br>variable: il6_2 is permuted: 0.455<br>Drop-out loss change: +0.001",
          "Model: Booster loss after<br>variable: tad_1 is permuted: 0.455<br>Drop-out loss change: +0.001",
          "Model: Booster loss after<br>variable: proteinas_0 is permuted: 0.455<br>Drop-out loss change: +0.001",
          "Model: Booster loss after<br>variable: imc is permuted: 0.455<br>Drop-out loss change: +0.001",
          "Model: Booster loss after<br>variable: albumina_0 is permuted: 0.455<br>Drop-out loss change: +0.001",
          "Model: Booster loss after<br>variable: leucocitos_0 is permuted: 0.455<br>Drop-out loss change: +0.001",
          "Model: Booster loss after<br>variable: temp_corp_2 is permuted: 0.455<br>Drop-out loss change: +0.001",
          "Model: Booster loss after<br>variable: linfocitos_1 is permuted: 0.455<br>Drop-out loss change: +0.001",
          "Model: Booster loss after<br>variable: quick_1 is permuted: 0.455<br>Drop-out loss change: +0.001",
          "Model: Booster loss after<br>variable: frec_resp_2 is permuted: 0.455<br>Drop-out loss change: +0.001",
          "Model: Booster loss after<br>variable: talla is permuted: 0.454<br>Drop-out loss change: +0.001"
         ],
         "marker": {
          "color": "#46bac2"
         },
         "orientation": "h",
         "showlegend": false,
         "text": [
          "+0.009",
          "+0.005",
          "+0.003",
          "+0.001",
          "+0.001",
          "+0.001",
          "+0.001",
          "+0.001",
          "+0.001",
          "+0.001",
          "+0.001",
          "+0.001",
          "+0.001",
          "+0.001",
          "+0.001",
          "+0.001",
          "+0.001",
          "+0.001",
          "+0.001",
          "+0.001"
         ],
         "textposition": "outside",
         "type": "bar",
         "x": [
          0.009231257929090131,
          0.005162935500142574,
          0.003012897472243148,
          0.0014914855200680033,
          0.0014811263071198844,
          0.001209139652974145,
          0.0011924315880489367,
          0.0010213378901677284,
          0.0008775024619237515,
          0.0008462481057809335,
          0.0008064733368280952,
          0.0007344274983391297,
          0.0006987052560707419,
          0.0006551308908196996,
          0.0006444395223398902,
          0.0006270944481146512,
          0.0006189260720383394,
          0.0006093201869985521,
          0.0005955096002705496,
          0.0005416482078013374
         ],
         "xaxis": "x",
         "y": [
          "localizacion",
          "pcr_2",
          "frec_card_1",
          "neutrofilos_2",
          "pcr_0",
          "quick_2",
          "tas_1",
          "pcr_1",
          "temp_corp_1",
          "il6_2",
          "tad_1",
          "proteinas_0",
          "imc",
          "albumina_0",
          "leucocitos_0",
          "temp_corp_2",
          "linfocitos_1",
          "quick_1",
          "frec_resp_2",
          "talla"
         ],
         "yaxis": "y"
        }
       ],
       "layout": {
        "annotations": [
         {
          "font": {
           "size": 16
          },
          "showarrow": false,
          "text": "Booster",
          "x": 0.5,
          "xanchor": "center",
          "xref": "paper",
          "y": 1,
          "yanchor": "bottom",
          "yref": "paper"
         },
         {
          "font": {
           "size": 16
          },
          "showarrow": false,
          "text": "drop-out loss",
          "x": 0.5,
          "xanchor": "center",
          "xref": "paper",
          "y": 0,
          "yanchor": "top",
          "yref": "paper",
          "yshift": -30
         }
        ],
        "font": {
         "color": "#371ea3"
        },
        "height": 583,
        "margin": {
         "b": 71,
         "r": 30,
         "t": 78
        },
        "shapes": [
         {
          "line": {
           "color": "#371ea3",
           "dash": "dot",
           "width": 1.5
          },
          "type": "line",
          "x0": 0.4539409609808753,
          "x1": 0.4539409609808753,
          "xref": "x",
          "y0": -1,
          "y1": 20,
          "yref": "y"
         }
        ],
        "template": {
         "data": {
          "scatter": [
           {
            "type": "scatter"
           }
          ]
         }
        },
        "title": {
         "text": "Variable Importance",
         "x": 0.15
        },
        "xaxis": {
         "anchor": "y",
         "automargin": true,
         "domain": [
          0,
          1
         ],
         "fixedrange": true,
         "gridwidth": 2,
         "range": [
          0.45255627229151174,
          0.46455690759932894
         ],
         "tickcolor": "white",
         "ticklen": 3,
         "ticks": "outside",
         "type": "linear",
         "zeroline": false
        },
        "yaxis": {
         "anchor": "x",
         "automargin": true,
         "autorange": "reversed",
         "domain": [
          0,
          1
         ],
         "fixedrange": true,
         "gridwidth": 2,
         "tickcolor": "white",
         "ticklen": 10,
         "ticks": "outside",
         "type": "category"
        }
       }
      }
     },
     "metadata": {},
     "output_type": "display_data"
    }
   ],
   "source": [
    "\n",
    "exp = dx.Explainer(model, X, y)\n",
    "vi = exp.model_parts() #MIRAR EL METODO!!!\n",
    "vi.plot(max_vars=20)\n",
    "#select the 10 most important variables from the explainer\n",
    "imps = vi.result['variable'][-30:-1].tolist()\n",
    "imps.append('id_registro')"
   ]
  },
  {
   "cell_type": "code",
   "execution_count": 18,
   "id": "f89cb0f5",
   "metadata": {},
   "outputs": [
    {
     "name": "stdout",
     "output_type": "stream",
     "text": [
      "[\n",
      ", creatinina_1\n",
      ", creatinina_2\n",
      ", leucocitos_2\n",
      ", peso\n",
      ", proteinas_2\n",
      ", tas_0\n",
      ", tad_2\n",
      ", plaquetas_1\n",
      ", linfocitos_2\n",
      ", talla\n",
      ", frec_resp_2\n",
      ", quick_1\n",
      ", linfocitos_1\n",
      ", temp_corp_2\n",
      ", leucocitos_0\n",
      ", albumina_0\n",
      ", imc\n",
      ", proteinas_0\n",
      ", tad_1\n",
      ", il6_2\n",
      ", temp_corp_1\n",
      ", pcr_1\n",
      ", tas_1\n",
      ", quick_2\n",
      ", pcr_0\n",
      ", neutrofilos_2\n",
      ", frec_card_1\n",
      ", pcr_2\n",
      ", localizacion\n",
      ", id_registro\n"
     ]
    }
   ],
   "source": [
    "print(\"[\")\n",
    "for i in imps:\n",
    "    print(\",\", i)"
   ]
  },
  {
   "cell_type": "code",
   "execution_count": 19,
   "id": "c18921e7",
   "metadata": {},
   "outputs": [],
   "source": [
    "df_imps = df_modelos[imps]\n",
    "df_imps['fuga'] = df_modelos['fuga']\n",
    "df_imps['id_registro'] = df_modelos['id_registro']"
   ]
  },
  {
   "cell_type": "code",
   "execution_count": 20,
   "id": "14b30132",
   "metadata": {},
   "outputs": [],
   "source": [
    "df_tmp = df_imps.copy()[df_imps['fuga'] != -1]\n",
    "cats = []\n",
    "    \n",
    "columnas_a_eliminar = [col for col in df_tmp.columns if \"fuga\" in col]\n",
    "X = df_tmp.drop(columnas_a_eliminar, axis=1)\n",
    "X = X.drop(['id_registro'], axis=1)\n",
    "y = df_tmp['fuga']\n",
    "\n"
   ]
  },
  {
   "cell_type": "code",
   "execution_count": 21,
   "id": "685426b4",
   "metadata": {},
   "outputs": [],
   "source": [
    "X_train, X_test, y_train, y_test = train_test_split(X, y, test_size=0.3, stratify=y, random_state=14)\n"
   ]
  },
  {
   "cell_type": "code",
   "execution_count": 22,
   "id": "4b9f9092",
   "metadata": {},
   "outputs": [],
   "source": [
    "# for col in cats:\n",
    "#     if col in X.columns:\n",
    "#         label_encoder = LabelEncoder()  \n",
    "#         label_encoder.fit(X[col]) \n",
    "#         X[col] = label_encoder.transform(X[col])\n",
    "\n",
    "# X_trainval, X_test, y_trainval, y_test = train_test_split(\n",
    "#     X, y, \n",
    "#     test_size=0.3, \n",
    "#     stratify=y, \n",
    "#     random_state=14\n",
    "# )\n",
    "\n",
    "# X_train, X_val, y_train, y_val = train_test_split(\n",
    "#     X_trainval, y_trainval, \n",
    "#     test_size=0.2, \n",
    "#     stratify=y_trainval, \n",
    "#     random_state=14\n",
    "# )"
   ]
  },
  {
   "cell_type": "code",
   "execution_count": null,
   "id": "6be99f47",
   "metadata": {},
   "outputs": [],
   "source": []
  },
  {
   "cell_type": "code",
   "execution_count": null,
   "id": "75827620",
   "metadata": {},
   "outputs": [],
   "source": []
  },
  {
   "cell_type": "code",
   "execution_count": 23,
   "id": "530efbc1",
   "metadata": {},
   "outputs": [
    {
     "name": "stdout",
     "output_type": "stream",
     "text": [
      "Fitting 3 folds for each of 50 candidates, totalling 150 fits\n"
     ]
    }
   ],
   "source": [
    "from sklearn.model_selection import RandomizedSearchCV\n",
    "from xgboost import XGBClassifier\n",
    "from scipy.stats import randint, uniform\n",
    "\n",
    "# Espacio de búsqueda basado en tus best_params\n",
    "param_distributions = {\n",
    "    'max_depth': randint(3, 10),\n",
    "    'learning_rate': uniform(0.01, 0.3),\n",
    "    'subsample': uniform(0.5, 0.5),\n",
    "    'colsample_bytree': uniform(0.5, 0.5),\n",
    "    'gamma': uniform(0, 5),\n",
    "    'reg_alpha': uniform(0, 1),\n",
    "    'reg_lambda': uniform(0, 1),\n",
    "    'min_child_weight': randint(1, 10),\n",
    "    'scale_pos_weight': uniform(0.5, 10),\n",
    "}\n",
    "\n",
    "# Codificación de variables categóricas (ya la tienes lista)\n",
    "X_train_encoded = X_train.copy()\n",
    "X_test_encoded = X_test.copy()\n",
    "# Aplica aquí tu codificación si hace falta\n",
    "\n",
    "# Modelo base\n",
    "xgb_clf = XGBClassifier(\n",
    "    objective='binary:logistic',\n",
    "    eval_metric='auc',\n",
    "    seed=14,\n",
    "    tree_method='hist'\n",
    ")\n",
    "\n",
    "# Búsqueda aleatoria\n",
    "random_search = RandomizedSearchCV(\n",
    "    estimator=xgb_clf,\n",
    "    param_distributions=param_distributions,\n",
    "    n_iter=50,\n",
    "    scoring='roc_auc',\n",
    "    cv=3,\n",
    "    verbose=1,\n",
    "    n_jobs=-1,\n",
    "    random_state=14,\n",
    ")\n",
    "\n",
    "# Entrenamiento\n",
    "random_search.fit(X_train_encoded, y_train)\n",
    "\n",
    "# Mejor modelo\n",
    "best_model = random_search.best_estimator_\n",
    "\n",
    "# Predicción (si quieres seguir luego con predicciones o evaluación)"
   ]
  },
  {
   "cell_type": "code",
   "execution_count": 24,
   "id": "7d5b9322",
   "metadata": {},
   "outputs": [
    {
     "name": "stdout",
     "output_type": "stream",
     "text": [
      "\n",
      "=== RESULTADOS FINALES OPTIMIZADOS ===\n",
      "Threshold óptimo: 0.3900\n",
      "\n",
      "Matriz de confusión TRAIN:\n",
      "[[380   2]\n",
      " [  0  92]]\n",
      "\n",
      "Reporte de clasificación TRAIN:\n",
      "              precision    recall  f1-score   support\n",
      "\n",
      "           0       1.00      0.99      1.00       382\n",
      "           1       0.98      1.00      0.99        92\n",
      "\n",
      "    accuracy                           1.00       474\n",
      "   macro avg       0.99      1.00      0.99       474\n",
      "weighted avg       1.00      1.00      1.00       474\n",
      "\n",
      "\n",
      "AUC: 1.0000\n",
      "Accuracy: 0.9957805907172996\n",
      "F1 score: 0.989247311827957\n"
     ]
    }
   ],
   "source": [
    "y_proba_train = best_model.predict_proba(X_train_encoded)[:, 1]\n",
    "y_pred_train = (y_proba_train >= 0.5).astype(int)\n",
    "\n",
    "print(\"\\n=== RESULTADOS FINALES OPTIMIZADOS ===\")\n",
    "print(f\"Threshold óptimo: {0.39:.4f}\")\n",
    "print(\"\\nMatriz de confusión TRAIN:\")\n",
    "print(confusion_matrix(y_train, y_pred_train))\n",
    "print(\"\\nReporte de clasificación TRAIN:\")\n",
    "print(classification_report(y_train, y_pred_train))\n",
    "\n",
    "from sklearn.metrics import roc_auc_score\n",
    "auc = roc_auc_score(y_train, y_proba_train)\n",
    "print(f\"\\nAUC: {auc:.4f}\")\n",
    "f1 = f1_score(y_train, y_pred_train)\n",
    "print(\"Accuracy:\", accuracy_score(y_train, y_pred_train))\n",
    "print(\"F1 score:\", f1)"
   ]
  },
  {
   "cell_type": "markdown",
   "id": "2dc5264f",
   "metadata": {},
   "source": [
    "0.9411"
   ]
  },
  {
   "cell_type": "code",
   "execution_count": 25,
   "id": "8cbccf69",
   "metadata": {},
   "outputs": [
    {
     "name": "stdout",
     "output_type": "stream",
     "text": [
      "\n",
      "=== RESULTADOS FINALES OPTIMIZADOS ===\n",
      "Threshold óptimo: 0.3900\n",
      "\n",
      "Matriz de confusión TEST:\n",
      "[[104  61]\n",
      " [ 15  24]]\n",
      "\n",
      "Reporte de clasificación TEST:\n",
      "              precision    recall  f1-score   support\n",
      "\n",
      "           0       0.87      0.63      0.73       165\n",
      "           1       0.28      0.62      0.39        39\n",
      "\n",
      "    accuracy                           0.63       204\n",
      "   macro avg       0.58      0.62      0.56       204\n",
      "weighted avg       0.76      0.63      0.67       204\n",
      "\n",
      "AUC: 0.7089\n",
      "Accuracy: 0.6274509803921569\n",
      "F1 score: 0.3870967741935484\n"
     ]
    }
   ],
   "source": [
    "y_proba_train = best_model.predict_proba(X_test_encoded)[:, 1]\n",
    "y_pred_test = (y_proba_test >= 0.5).astype(int)\n",
    "\n",
    "print(\"\\n=== RESULTADOS FINALES OPTIMIZADOS ===\")\n",
    "print(f\"Threshold óptimo: {0.39:.4f}\")\n",
    "print(\"\\nMatriz de confusión TEST:\")\n",
    "print(confusion_matrix(y_test, y_pred_test))\n",
    "print(\"\\nReporte de clasificación TEST:\")\n",
    "print(classification_report(y_test, y_pred_test))\n",
    "#auc\n",
    "from sklearn.metrics import roc_auc_score\n",
    "auc = roc_auc_score(y_test, y_proba_test)\n",
    "print(f\"AUC: {auc:.4f}\")\n",
    "f1 = f1_score(y_test, y_pred_test)\n",
    "print(\"Accuracy:\", accuracy_score(y_test, y_pred_test))\n",
    "print(\"F1 score:\", f1)\n"
   ]
  },
  {
   "cell_type": "markdown",
   "id": "839a1d4a",
   "metadata": {},
   "source": [
    "0.7333"
   ]
  },
  {
   "cell_type": "code",
   "execution_count": 26,
   "id": "d6d70413",
   "metadata": {},
   "outputs": [
    {
     "name": "stdout",
     "output_type": "stream",
     "text": [
      "Preparation of a new explainer is initiated\n",
      "\n",
      "  -> data              : 678 rows 29 cols\n",
      "  -> target variable   : Parameter 'y' was a pandas.Series. Converted to a numpy.ndarray.\n",
      "  -> target variable   : 678 values\n",
      "  -> model_class       : xgboost.sklearn.XGBClassifier (default)\n",
      "  -> label             : Not specified, model's class short name will be used. (default)\n",
      "  -> predict function  : <function yhat_proba_default at 0x14fdcc670> will be used (default)\n",
      "  -> predict function  : Accepts pandas.DataFrame and numpy.ndarray.\n",
      "  -> predicted values  : min = 0.00434, mean = 0.263, max = 0.973\n",
      "  -> model type        : classification will be used (default)\n",
      "  -> residual function : difference between y and yhat (default)\n",
      "  -> residuals         : min = -0.868, mean = -0.07, max = 0.942\n",
      "  -> model_info        : package xgboost\n",
      "\n",
      "A new explainer has been created!\n"
     ]
    },
    {
     "data": {
      "application/vnd.plotly.v1+json": {
       "config": {
        "displaylogo": false,
        "modeBarButtonsToRemove": [
         "sendDataToCloud",
         "lasso2d",
         "autoScale2d",
         "select2d",
         "zoom2d",
         "pan2d",
         "zoomIn2d",
         "zoomOut2d",
         "resetScale2d",
         "toggleSpikelines",
         "hoverCompareCartesian",
         "hoverClosestCartesian"
        ],
        "plotlyServerURL": "https://plot.ly",
        "staticPlot": false,
        "toImageButtonOptions": {
         "height": null,
         "width": null
        }
       },
       "data": [
        {
         "base": 0.053295560796572605,
         "hoverinfo": "text",
         "hoverlabel": {
          "bgcolor": "rgba(0,0,0,0.8)"
         },
         "hovertext": [
          "Model: XGBClassifier loss after<br>variable: localizacion is permuted: 0.095<br>Drop-out loss change: +0.042",
          "Model: XGBClassifier loss after<br>variable: pcr_2 is permuted: 0.063<br>Drop-out loss change: +0.009",
          "Model: XGBClassifier loss after<br>variable: pcr_0 is permuted: 0.063<br>Drop-out loss change: +0.009",
          "Model: XGBClassifier loss after<br>variable: neutrofilos_2 is permuted: 0.061<br>Drop-out loss change: +0.008",
          "Model: XGBClassifier loss after<br>variable: frec_card_1 is permuted: 0.061<br>Drop-out loss change: +0.008",
          "Model: XGBClassifier loss after<br>variable: leucocitos_0 is permuted: 0.061<br>Drop-out loss change: +0.007",
          "Model: XGBClassifier loss after<br>variable: pcr_1 is permuted: 0.06<br>Drop-out loss change: +0.007",
          "Model: XGBClassifier loss after<br>variable: linfocitos_2 is permuted: 0.06<br>Drop-out loss change: +0.007",
          "Model: XGBClassifier loss after<br>variable: temp_corp_1 is permuted: 0.059<br>Drop-out loss change: +0.006",
          "Model: XGBClassifier loss after<br>variable: plaquetas_1 is permuted: 0.059<br>Drop-out loss change: +0.006",
          "Model: XGBClassifier loss after<br>variable: creatinina_2 is permuted: 0.059<br>Drop-out loss change: +0.005",
          "Model: XGBClassifier loss after<br>variable: tas_1 is permuted: 0.059<br>Drop-out loss change: +0.005",
          "Model: XGBClassifier loss after<br>variable: il6_2 is permuted: 0.058<br>Drop-out loss change: +0.005",
          "Model: XGBClassifier loss after<br>variable: quick_2 is permuted: 0.057<br>Drop-out loss change: +0.004",
          "Model: XGBClassifier loss after<br>variable: linfocitos_1 is permuted: 0.057<br>Drop-out loss change: +0.004",
          "Model: XGBClassifier loss after<br>variable: proteinas_2 is permuted: 0.056<br>Drop-out loss change: +0.003",
          "Model: XGBClassifier loss after<br>variable: talla is permuted: 0.056<br>Drop-out loss change: +0.003",
          "Model: XGBClassifier loss after<br>variable: leucocitos_2 is permuted: 0.056<br>Drop-out loss change: +0.002",
          "Model: XGBClassifier loss after<br>variable: proteinas_0 is permuted: 0.056<br>Drop-out loss change: +0.002",
          "Model: XGBClassifier loss after<br>variable: tad_2 is permuted: 0.055<br>Drop-out loss change: +0.002"
         ],
         "marker": {
          "color": "#46bac2"
         },
         "orientation": "h",
         "showlegend": false,
         "text": [
          "+0.042",
          "+0.009",
          "+0.009",
          "+0.008",
          "+0.008",
          "+0.007",
          "+0.007",
          "+0.007",
          "+0.006",
          "+0.006",
          "+0.005",
          "+0.005",
          "+0.005",
          "+0.004",
          "+0.004",
          "+0.003",
          "+0.003",
          "+0.002",
          "+0.002",
          "+0.002"
         ],
         "textposition": "outside",
         "type": "bar",
         "x": [
          0.041902396137153325,
          0.009478487796028251,
          0.009345911774146232,
          0.007788492401300598,
          0.007661498527708352,
          0.007480078708290851,
          0.006838131654967362,
          0.006639965390680583,
          0.006049653209037442,
          0.005651925143391377,
          0.005497020528350313,
          0.0053602578952508945,
          0.004705751008275513,
          0.004030311065213413,
          0.0039340190072148715,
          0.0031497271725022466,
          0.002939001074563498,
          0.002464518469933105,
          0.002347293355847921,
          0.002110052053532728
         ],
         "xaxis": "x",
         "y": [
          "localizacion",
          "pcr_2",
          "pcr_0",
          "neutrofilos_2",
          "frec_card_1",
          "leucocitos_0",
          "pcr_1",
          "linfocitos_2",
          "temp_corp_1",
          "plaquetas_1",
          "creatinina_2",
          "tas_1",
          "il6_2",
          "quick_2",
          "linfocitos_1",
          "proteinas_2",
          "talla",
          "leucocitos_2",
          "proteinas_0",
          "tad_2"
         ],
         "yaxis": "y"
        }
       ],
       "layout": {
        "annotations": [
         {
          "font": {
           "size": 16
          },
          "showarrow": false,
          "text": "XGBClassifier",
          "x": 0.5,
          "xanchor": "center",
          "xref": "paper",
          "y": 1,
          "yanchor": "bottom",
          "yref": "paper"
         },
         {
          "font": {
           "size": 16
          },
          "showarrow": false,
          "text": "drop-out loss",
          "x": 0.5,
          "xanchor": "center",
          "xref": "paper",
          "y": 0,
          "yanchor": "top",
          "yref": "paper",
          "yshift": -30
         }
        ],
        "font": {
         "color": "#371ea3"
        },
        "height": 583,
        "margin": {
         "b": 71,
         "r": 30,
         "t": 78
        },
        "shapes": [
         {
          "line": {
           "color": "#371ea3",
           "dash": "dot",
           "width": 1.5
          },
          "type": "line",
          "x0": 0.053295560796572605,
          "x1": 0.053295560796572605,
          "xref": "x",
          "y0": -1,
          "y1": 20,
          "yref": "y"
         }
        ],
        "template": {
         "data": {
          "scatter": [
           {
            "type": "scatter"
           }
          ]
         }
        },
        "title": {
         "text": "Variable Importance",
         "x": 0.15
        },
        "xaxis": {
         "anchor": "y",
         "automargin": true,
         "domain": [
          0,
          1
         ],
         "fixedrange": true,
         "gridwidth": 2,
         "range": [
          0.045689395313786504,
          0.10165559540589195
         ],
         "tickcolor": "white",
         "ticklen": 3,
         "ticks": "outside",
         "type": "linear",
         "zeroline": false
        },
        "yaxis": {
         "anchor": "x",
         "automargin": true,
         "autorange": "reversed",
         "domain": [
          0,
          1
         ],
         "fixedrange": true,
         "gridwidth": 2,
         "tickcolor": "white",
         "ticklen": 10,
         "ticks": "outside",
         "type": "category"
        }
       }
      }
     },
     "metadata": {},
     "output_type": "display_data"
    }
   ],
   "source": [
    "exp = dx.Explainer(best_model, X, y)\n",
    "vi = exp.model_parts()\n",
    "vi.plot(max_vars=20)\n"
   ]
  },
  {
   "cell_type": "code",
   "execution_count": null,
   "id": "64f0a9d1",
   "metadata": {},
   "outputs": [],
   "source": []
  },
  {
   "cell_type": "code",
   "execution_count": 51,
   "id": "a6999872",
   "metadata": {},
   "outputs": [
    {
     "data": {
      "image/png": "[encoded data removed]",
      "text/plain": [
       "<Figure size 800x600 with 1 Axes>"
      ]
     },
     "metadata": {},
     "output_type": "display_data"
    },
    {
     "data": {
      "image/png": "[encoded data removed]",
      "text/plain": [
       "<Figure size 800x600 with 1 Axes>"
      ]
     },
     "metadata": {},
     "output_type": "display_data"
    }
   ],
   "source": [
    "#draw auc curve\n",
    "import matplotlib.pyplot as plt\n",
    "from sklearn.metrics import roc_curve\n",
    "fpr, tpr, thresholds = roc_curve(y_test, y_proba_test)\n",
    "plt.figure(figsize=(8, 6))\n",
    "plt.plot(fpr, tpr, label='AUC = %.4f' % auc)\n",
    "plt.plot([0, 1], [0, 1], 'k--')\n",
    "plt.xlabel('False Positive Rate')\n",
    "plt.ylabel('True Positive Rate')\n",
    "plt.title('ROC Curve')\n",
    "plt.legend(loc='lower right')\n",
    "plt.show()\n",
    "\n",
    "\n",
    "\n",
    "# dibuja el fpr vs el umbral\n",
    "plt.figure(figsize=(8, 6))\n",
    "plt.plot(thresholds, tpr, label='TPR (Recall)', color='blue')\n",
    "plt.xlabel('Umbral')\n",
    "plt.ylabel('TPR (Recall)')\n",
    "plt.title('TPR vs Umbral')\n",
    "plt.axvline(x=0.05, color='red', linestyle='--', label='Umbral 0.05')\n",
    "plt.axvline(x=0.03, color='green', linestyle='--', label='Umbral 0.03')\n",
    "plt.legend()\n",
    "plt.grid()\n",
    "plt.show()"
   ]
  },
  {
   "cell_type": "code",
   "execution_count": null,
   "id": "0c90a985",
   "metadata": {},
   "outputs": [],
   "source": []
  },
  {
   "cell_type": "code",
   "execution_count": null,
   "id": "4851c484",
   "metadata": {},
   "outputs": [],
   "source": []
  },
  {
   "cell_type": "code",
   "execution_count": 52,
   "id": "3d0dd949",
   "metadata": {},
   "outputs": [
    {
     "name": "stdout",
     "output_type": "stream",
     "text": [
      "\n",
      "=== RESULTADOS DEL ENSEMBLE ===\n",
      "Matriz de confusión TEST:\n",
      "[[ 64 101]\n",
      " [  4  35]]\n",
      "\n",
      "Reporte de clasificación TEST:\n",
      "              precision    recall  f1-score   support\n",
      "\n",
      "           0       0.94      0.39      0.55       165\n",
      "           1       0.26      0.90      0.40        39\n",
      "\n",
      "    accuracy                           0.49       204\n",
      "   macro avg       0.60      0.64      0.47       204\n",
      "weighted avg       0.81      0.49      0.52       204\n",
      "\n",
      "AUC-ROC Ensemble: 0.7139\n"
     ]
    }
   ],
   "source": [
    "from sklearn.ensemble import RandomForestClassifier\n",
    "from sklearn.pipeline import Pipeline\n",
    "\n",
    "rf = RandomForestClassifier(\n",
    "    class_weight='balanced',\n",
    "    max_depth=5,\n",
    "    n_estimators=100\n",
    ")\n",
    "\n",
    "rf.fit(X_train, y_train)\n",
    "\n",
    "ensemble_pred = (0.7*y_proba_test + 0.3*rf.predict_proba(X_test)[:,1]) > 0.39\n",
    "y_pred_ensemble = ensemble_pred.astype(int)\n",
    "\n",
    "# Generar reporte de clasificación completo\n",
    "print(\"\\n=== RESULTADOS DEL ENSEMBLE ===\")\n",
    "print(\"Matriz de confusión TEST:\")\n",
    "print(confusion_matrix(y_test, y_pred_ensemble))\n",
    "print(\"\\nReporte de clasificación TEST:\")\n",
    "print(classification_report(y_test, y_pred_ensemble, zero_division=0))\n",
    "print(f\"AUC-ROC Ensemble: {roc_auc_score(y_test, 0.7*y_proba_test + 0.3*rf.predict_proba(X_test)[:,1]):.4f}\")"
   ]
  },
  {
   "cell_type": "code",
   "execution_count": null,
   "id": "40117043",
   "metadata": {},
   "outputs": [],
   "source": [
    "\n",
    "\n"
   ]
  },
  {
   "cell_type": "code",
   "execution_count": null,
   "id": "a9b882ad",
   "metadata": {},
   "outputs": [],
   "source": []
  },
  {
   "cell_type": "code",
   "execution_count": null,
   "id": "0a84d2d8",
   "metadata": {},
   "outputs": [],
   "source": []
  },
  {
   "cell_type": "code",
   "execution_count": null,
   "id": "9d09e492",
   "metadata": {},
   "outputs": [],
   "source": []
  },
  {
   "cell_type": "code",
   "execution_count": null,
   "id": "e6265b17",
   "metadata": {},
   "outputs": [],
   "source": [
    "\n"
   ]
  },
  {
   "cell_type": "code",
   "execution_count": null,
   "id": "cee80082",
   "metadata": {},
   "outputs": [],
   "source": []
  },
  {
   "cell_type": "code",
   "execution_count": null,
   "id": "c782491e",
   "metadata": {},
   "outputs": [],
   "source": []
  },
  {
   "cell_type": "code",
   "execution_count": null,
   "id": "01420d72",
   "metadata": {},
   "outputs": [],
   "source": []
  }
 ],
 "metadata": {
  "kernelspec": {
   "display_name": "ads2",
   "language": "python",
   "name": "python3"
  },
  "language_info": {
   "codemirror_mode": {
    "name": "ipython",
    "version": 3
   },
   "file_extension": ".py",
   "mimetype": "text/x-python",
   "name": "python",
   "nbconvert_exporter": "python",
   "pygments_lexer": "ipython3",
   "version": "3.10.15"
  }
 },
 "nbformat": 4,
 "nbformat_minor": 5
}
